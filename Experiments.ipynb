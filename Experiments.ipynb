{
 "cells": [
  {
   "cell_type": "code",
   "execution_count": 1,
   "id": "c0051a64-c493-4633-b264-d7794911529d",
   "metadata": {},
   "outputs": [],
   "source": [
    "import numpy as np\n",
    "import pandas as pd\n",
    "import torch\n",
    "import h5py\n",
    "import re\n",
    "import torch.nn as nn \n",
    "import matplotlib.pyplot as plt\n",
    "from torch.utils.data import TensorDataset, DataLoader\n",
    "from torch.utils.data.dataset import random_split\n",
    "from torch.utils.data import TensorDataset, DataLoader\n",
    "import torch.optim as optim\n",
    "from torch.optim.lr_scheduler import StepLR\n",
    "import torch.nn.functional as F\n",
    "from sklearn.model_selection import train_test_split"
   ]
  },
  {
   "cell_type": "code",
   "execution_count": 2,
   "id": "74fb3a02-8f8a-4d21-b1ed-4b17366c2d78",
   "metadata": {},
   "outputs": [],
   "source": [
    "### Increasing the average pool with increasing\n",
    "### with Conv 3 and average pooling with 4,5,6 no improvements - goes down the hill\n",
    "### with Conv 3 layers - 13%\n",
    "## with conv 4 layers -  13%\n",
    "### After relu1 layernormalization and so forth - to do \n",
    "## with conv 5 layers -  NAN nope\n",
    "\n",
    "###Addign lower numeber has no good results\n",
    "class SimpleCNNavg(nn.Module):\n",
    "    def __init__(self, num_classes, debug=False):\n",
    "        super(SimpleCNNavg, self).__init__()\n",
    "        s = 2\n",
    "        self.debug = debug  # Debug flag\n",
    "\n",
    "\n",
    "        self.AvgPools  = [nn.AvgPool1d(w) for w in [5,10,30,50]] \n",
    "\n",
    "        self.conv1 = nn.Conv1d(in_channels=2, out_channels=8, kernel_size=3, stride=s, padding=1)\n",
    "        self.relu1 = nn.ReLU()\n",
    "        \n",
    "        self.conv2 = nn.Conv1d(in_channels=8, out_channels=16, kernel_size=3, stride=s, padding=1)\n",
    "        self.relu2 = nn.ReLU()\n",
    "        \n",
    "        self.conv3 = nn.Conv1d(in_channels= 16, out_channels= 32, kernel_size=3, stride=s, padding=1)\n",
    "        self.relu3 = nn.ReLU()\n",
    "\n",
    "        self.conv4 = nn.Conv1d(in_channels= 32, out_channels= 32, kernel_size=3, stride=s, padding=1)\n",
    "        self.relu4 = nn.ReLU()\n",
    "\n",
    "        self.conv5 = nn.Conv1d(in_channels= 32, out_channels = 64 , kernel_size=3, stride=s, padding=1)\n",
    "        self.relu5 = nn.ReLU()\n",
    "        \n",
    "        self.fc1 = nn.Linear(256, 128)  # Adjusted based on the output size after convolutions\n",
    "        self.relu6 = nn.ReLU()\n",
    "        \n",
    "        self.fc2 = nn.Linear(128, num_classes)\n",
    "\n",
    "    def forward(self, x):\n",
    "\n",
    "        avgs = []\n",
    "        # Apply the average pooling layers\n",
    "        for layer in self.AvgPools:\n",
    "            avgs.append(layer(x)) \n",
    "            \n",
    "        # Concatenate the outputs from the average pooling layers\n",
    "        xcat = torch.cat(avgs, dim=2)\n",
    "\n",
    "        h = self.conv1(xcat)\n",
    "        h = self.relu1(h)\n",
    "        \n",
    "        h = self.conv2(h)\n",
    "        h = self.relu2(h)\n",
    "\n",
    "        h = self.conv3(h)\n",
    "        h = self.relu3(h)\n",
    "\n",
    "        h = self.conv4(h)\n",
    "        h = self.relu4(h)\n",
    "\n",
    "        h = self.conv5(h)\n",
    "        h = self.relu5(h)\n",
    "        \n",
    "        h = h.view(h.size(0), -1)  # Flatten the output for the fully connected layers\n",
    "        \n",
    "        h = self.fc1(h)\n",
    "        h = self.relu6(h)\n",
    "        \n",
    "        out = self.fc2(h)\n",
    "        \n",
    "        \n",
    "\n",
    "        return out"
   ]
  },
  {
   "cell_type": "code",
   "execution_count": 3,
   "id": "a2bf9c1f-80bf-4097-bd98-3672fc16bae1",
   "metadata": {},
   "outputs": [
    {
     "ename": "NameError",
     "evalue": "name 'train_loader' is not defined",
     "output_type": "error",
     "traceback": [
      "\u001b[0;31m---------------------------------------------------------------------------\u001b[0m",
      "\u001b[0;31mNameError\u001b[0m                                 Traceback (most recent call last)",
      "Cell \u001b[0;32mIn[3], line 2\u001b[0m\n\u001b[1;32m      1\u001b[0m model \u001b[38;5;241m=\u001b[39m SimpleCNNavg(num_classes\u001b[38;5;241m=\u001b[39m\u001b[38;5;241m10\u001b[39m, debug\u001b[38;5;241m=\u001b[39m\u001b[38;5;28;01mFalse\u001b[39;00m)\n\u001b[0;32m----> 2\u001b[0m \u001b[38;5;28;01mfor\u001b[39;00m batch, (data, target) \u001b[38;5;129;01min\u001b[39;00m \u001b[38;5;28menumerate\u001b[39m(\u001b[43mtrain_loader\u001b[49m, \u001b[38;5;241m1\u001b[39m):\n\u001b[1;32m      3\u001b[0m             \u001b[38;5;66;03m# clear the gradients of all optimized variables\u001b[39;00m\n\u001b[1;32m      4\u001b[0m             optimizer\u001b[38;5;241m.\u001b[39mzero_grad()\n\u001b[1;32m      5\u001b[0m             \u001b[38;5;66;03m# forward pass: compute predicted outputs by passing inputs to the model\u001b[39;00m\n",
      "\u001b[0;31mNameError\u001b[0m: name 'train_loader' is not defined"
     ]
    }
   ],
   "source": [
    "model = SimpleCNNavg(num_classes=10, debug=False)\n",
    "for batch, (data, target) in enumerate(train_loader, 1):\n",
    "            # clear the gradients of all optimized variables\n",
    "            optimizer.zero_grad()\n",
    "            # forward pass: compute predicted outputs by passing inputs to the model\n",
    "            output = model(data)\n",
    "            break\n",
    "output.shape"
   ]
  },
  {
   "cell_type": "code",
   "execution_count": 4,
   "id": "820f7218-4d6e-487b-b1e7-5b36ef06ec87",
   "metadata": {},
   "outputs": [
    {
     "name": "stdout",
     "output_type": "stream",
     "text": [
      "Source positions tensor shape: torch.Size([3618])\n",
      "Density values tensor shape: torch.Size([3618, 300])\n",
      "Class tensor shape: torch.Size([3618])\n"
     ]
    }
   ],
   "source": [
    "smoke_detectors = np.array([[60.0, 60.0],[30.0, 80.0]])\n",
    "\n",
    "# Initialize lists to store tensors for source positions, density values, and class labels\n",
    "source_positions_tensors = []\n",
    "density_values_tensors = []\n",
    "class_tensors = []\n",
    "\n",
    "# Initialize tensors for source positions and density values\n",
    "source_positions_tensor = None\n",
    "density_values_tensor = None\n",
    "class_tensor = None\n",
    "\n",
    "total_steps = 501  # Total number of steps\n",
    "window_size = 300\n",
    "\n",
    "# Open the HDF5 file in read mode\n",
    "with h5py.File(\"Smoke Flow Data.h5\", \"r\") as hf:\n",
    "\n",
    "    # Iterate over each smoke detector position\n",
    "    for smoke_detector_pos in smoke_detectors:\n",
    "        x, y = smoke_detector_pos\n",
    "        \n",
    "        # Iterate over the time steps with a sliding window\n",
    "        for source_group_name in hf:\n",
    "\n",
    "            # Access the group corresponding to the source position\n",
    "            source_group = hf[source_group_name]\n",
    "\n",
    "            # Extract the source position value from the group name\n",
    "            source_position_str = source_group_name.split('-')[-1]\n",
    "\n",
    "            # Convert the source position string to a numerical data type (e.g., float)\n",
    "            source_position = float(source_position_str)\n",
    "\n",
    "            # Access the 'density' dataset within the group\n",
    "            density_dataset = source_group['density']\n",
    "\n",
    "            # Iterate over the sliding windows\n",
    "            for start_idx in range(total_steps - window_size):\n",
    "                # Retrieve the density values at the specified position (x, y) for the current window\n",
    "                density_values_at_position = density_dataset[start_idx : start_idx + window_size, int(x), int(y), 0]\n",
    "                \n",
    "                # Convert density values to PyTorch tensor\n",
    "                density_values_tensor_batch = torch.tensor(density_values_at_position)\n",
    "                source_position_tensor_batch = torch.tensor(source_position)\n",
    "                \n",
    "                # Calculate the class label based on the source position\n",
    "                class_label = int(source_position // 10) - 1\n",
    "\n",
    "\n",
    "                # Create class tensor based on the class label\n",
    "                class_tensor_batch = torch.tensor(class_label)\n",
    "\n",
    "                # Concatenate batch tensors\n",
    "                if source_positions_tensor is None:\n",
    "                    source_positions_tensor = source_position_tensor_batch.unsqueeze(0)\n",
    "                    density_values_tensor = density_values_tensor_batch.unsqueeze(0)\n",
    "                    class_tensor = class_tensor_batch.unsqueeze(0)\n",
    " \n",
    "                else:\n",
    "                    source_positions_tensor = torch.cat((source_positions_tensor, source_position_tensor_batch.unsqueeze(0)), dim=0)\n",
    "                    density_values_tensor = torch.cat((density_values_tensor, density_values_tensor_batch.unsqueeze(0)), dim=0)\n",
    "                    class_tensor = torch.cat((class_tensor, class_tensor_batch.unsqueeze(0)), dim=0)\n",
    "\n",
    "            # Append the tensors to the lists after processing all sliding windows for each source position\n",
    "            source_positions_tensors.append(source_positions_tensor)\n",
    "            density_values_tensors.append(density_values_tensor)\n",
    "            class_tensors.append(class_tensor)\n",
    "\n",
    "# You now have the source positions, density values, and class labels as tensors with sliding windows\n",
    "print(\"Source positions tensor shape:\", source_positions_tensor.shape)\n",
    "print(\"Density values tensor shape:\", density_values_tensor.shape)\n",
    "print(\"Class tensor shape:\", class_tensor.shape)\n"
   ]
  },
  {
   "cell_type": "code",
   "execution_count": 5,
   "id": "30562ec5-8073-48ab-b6f3-2c908023e1f4",
   "metadata": {},
   "outputs": [],
   "source": [
    "density_tensor = density_values_tensor.reshape(1809,2,-1)\n",
    "source_tensor = source_positions_tensor.view(1809,-1)\n",
    "class_tensor = class_tensor.view(1809,-1)"
   ]
  },
  {
   "cell_type": "code",
   "execution_count": 6,
   "id": "cab3dc93-3402-468e-acb6-0b89b393e573",
   "metadata": {},
   "outputs": [
    {
     "data": {
      "text/plain": [
       "tensor(9)"
      ]
     },
     "execution_count": 6,
     "metadata": {},
     "output_type": "execute_result"
    }
   ],
   "source": [
    "sum(class_tensor[:,0] != class_tensor[:,1])"
   ]
  },
  {
   "cell_type": "code",
   "execution_count": 7,
   "id": "163ae083-8e2c-4674-883c-2cc996638e4b",
   "metadata": {},
   "outputs": [],
   "source": [
    "class_tensor = class_tensor[:,0]"
   ]
  },
  {
   "cell_type": "code",
   "execution_count": 8,
   "id": "e1b0651b-25a1-46dd-aa2b-7ef46f584bc2",
   "metadata": {},
   "outputs": [
    {
     "name": "stdout",
     "output_type": "stream",
     "text": [
      "Source positions tensor shape: torch.Size([1809, 2])\n",
      "Density values tensor shape: torch.Size([1809, 2, 300])\n",
      "Class tensor shape: torch.Size([1809])\n"
     ]
    }
   ],
   "source": [
    "print(\"Source positions tensor shape:\", source_tensor.shape)\n",
    "print(\"Density values tensor shape:\", density_tensor.shape)\n",
    "print(\"Class tensor shape:\", class_tensor.shape)\n"
   ]
  },
  {
   "cell_type": "code",
   "execution_count": 9,
   "id": "f09c233d-daba-41eb-9d9e-2f5ee0e7af55",
   "metadata": {},
   "outputs": [],
   "source": [
    "def plot_avgPool_demo(some_index = 200, pool_width=50):\n",
    "### Just checking how averaging might work on the singal\n",
    "    \n",
    "    # import torch.nn as nn\n",
    "    my_test_layer = nn.AvgPool1d(pool_width)\n",
    "    plt.figure(figsize=(8,2))\n",
    "    ax = plt.subplot(121)\n",
    "    ax.plot(my_test_layer(density_tensor)[some_index,0,:])\n",
    "    ax.set_ylabel('AvgPool')\n",
    "    ax = plt.subplot(122)\n",
    "    ax.plot((density_tensor)[some_index,0,:])\n",
    "    ax.set_ylabel('original Signal')"
   ]
  },
  {
   "cell_type": "code",
   "execution_count": 10,
   "id": "81b3e99b-a7b3-4830-a1a3-4cb29a2fa53f",
   "metadata": {},
   "outputs": [
    {
     "data": {
      "image/png": "[encoded data removed]",
      "text/plain": [
       "<Figure size 800x200 with 2 Axes>"
      ]
     },
     "metadata": {},
     "output_type": "display_data"
    }
   ],
   "source": [
    "plot_avgPool_demo(pool_width=100)\n"
   ]
  },
  {
   "cell_type": "code",
   "execution_count": 11,
   "id": "72eb6c3c-a5b2-4fe4-b99e-c3fa250699cb",
   "metadata": {},
   "outputs": [
    {
     "data": {
      "image/png": "[encoded data removed]",
      "text/plain": [
       "<Figure size 800x200 with 2 Axes>"
      ]
     },
     "metadata": {},
     "output_type": "display_data"
    }
   ],
   "source": [
    "plot_avgPool_demo(pool_width=30)"
   ]
  },
  {
   "cell_type": "code",
   "execution_count": 12,
   "id": "ad67026a-1c4b-4ae8-b1e0-305bf587d82b",
   "metadata": {},
   "outputs": [],
   "source": [
    "train_density = density_tensor\n",
    "train_source = class_tensor\n",
    "train_data = TensorDataset(train_density, train_source)"
   ]
  },
  {
   "cell_type": "code",
   "execution_count": 13,
   "id": "58243592-1ca9-4a26-8913-9bf46068ffb4",
   "metadata": {},
   "outputs": [],
   "source": [
    "from torchvision import datasets\n",
    "import torchvision.transforms as transforms\n",
    "from torch.utils.data.sampler import SubsetRandomSampler\n",
    "batch_size = 100\n",
    "\n",
    "def create_datasets(batch_size):\n",
    "\n",
    "    # percentage of training set to use as validation\n",
    "    valid_size = 0.2\n",
    "    test_size =  0.2\n",
    "\n",
    "    # convert data to torch.FloatTensor\n",
    "    transform = transforms.ToTensor()\n",
    "\n",
    "    # choose the training and test datasets\n",
    "\n",
    "\n",
    "    # obtain training indices that will be used for validation\n",
    "    num_train = len(train_data)\n",
    "    indices = list(range(num_train))\n",
    "    np.random.shuffle(indices)\n",
    "    split_val = int(np.floor(valid_size * num_train))\n",
    "    split_test = int(np.floor((valid_size + test_size) * num_train))\n",
    "    train_idx, valid_idx, test_idx = indices[split_test:], indices[:split_val], indices[split_val:split_test]\n",
    "    \n",
    "    # define samplers for obtaining training and validation batches\n",
    "    train_sampler = SubsetRandomSampler(train_idx)\n",
    "    valid_sampler = SubsetRandomSampler(valid_idx)\n",
    "    test_sampler = SubsetRandomSampler(test_idx)\n",
    "    \n",
    "    # load training data in batches\n",
    "    train_loader = torch.utils.data.DataLoader(train_data,\n",
    "                                               batch_size=batch_size,\n",
    "                                               sampler=train_sampler,\n",
    "                                               num_workers=0,\n",
    "                                               drop_last=True)\n",
    "    \n",
    "    # load validation data in batches\n",
    "    valid_loader = torch.utils.data.DataLoader(train_data,\n",
    "                                               batch_size=batch_size,\n",
    "                                               sampler=valid_sampler,\n",
    "                                               num_workers=0,\n",
    "                                               drop_last=True)\n",
    "    \n",
    "    # load test data in batches\n",
    "    test_loader = torch.utils.data.DataLoader(train_data,\n",
    "                                              batch_size=batch_size,\n",
    "                                              num_workers=0,\n",
    "                                              sampler=test_sampler,\n",
    "                                              drop_last=True)\n",
    "    \n",
    "    return train_loader, test_loader, valid_loader"
   ]
  },
  {
   "cell_type": "code",
   "execution_count": 14,
   "id": "ac2070bb-824b-4a67-9429-70c6042a80df",
   "metadata": {},
   "outputs": [],
   "source": [
    "train_loader, test_loader, valid_loader = create_datasets(batch_size=batch_size)"
   ]
  },
  {
   "cell_type": "code",
   "execution_count": 15,
   "id": "014f72f1-aae5-48bf-bcfe-c3bb4bed18d8",
   "metadata": {},
   "outputs": [],
   "source": [
    "# model = SimpleCNN(num_classes=9)\n",
    "model = SimpleCNNavg(num_classes=10, debug=False)\n",
    "criterion = nn.CrossEntropyLoss()\n",
    "optimizer = optim.Adam(model.parameters(), lr=0.01)\n",
    "# scheduler = StepLR(optimizer, step_size= .7, gamma = .9)\n"
   ]
  },
  {
   "cell_type": "code",
   "execution_count": 16,
   "id": "3b92b6fe-a151-4785-b761-547301a386f3",
   "metadata": {},
   "outputs": [
    {
     "name": "stdout",
     "output_type": "stream",
     "text": [
      "45522\n"
     ]
    }
   ],
   "source": [
    "pytorch_total_params = sum(p.numel() for p in model.parameters())\n",
    "print(pytorch_total_params)"
   ]
  },
  {
   "cell_type": "code",
   "execution_count": 21,
   "id": "fdf4c36e-10c4-4068-a0a4-69bc31862786",
   "metadata": {},
   "outputs": [],
   "source": [
    "def train_model(model, batch_size, n_epochs):\n",
    "    \n",
    "    # to track the training loss as the model trains\n",
    "    train_losses = []\n",
    "    # to track the validation loss as the model trains\n",
    "    valid_losses = []\n",
    "    # to track the average training loss per epoch as the model trains\n",
    "    avg_train_losses = []\n",
    "    # to track the average validation loss per epoch as the model trains\n",
    "    avg_valid_losses = [] \n",
    "    \n",
    "    \n",
    "    for epoch in range(1, n_epochs + 1):\n",
    "\n",
    "        ###################\n",
    "        # train the model #\n",
    "        ###################\n",
    "        model.train() # prep model for training\n",
    "        for batch, (data, target) in enumerate(train_loader, 1):\n",
    "            # clear the gradients of all optimized variables\n",
    "            optimizer.zero_grad()\n",
    "            # forward pass: compute predicted outputs by passing inputs to the model\n",
    "            output = model(data)\n",
    "            # calculate the loss\n",
    "            loss = criterion(output, target)\n",
    "            # backward pass: compute gradient of the loss with respect to model parameters\n",
    "            loss.backward()\n",
    "            # perform a single optimization step (parameter update)\n",
    "            optimizer.step()\n",
    "            # record training loss\n",
    "            train_losses.append(loss.item())\n",
    "\n",
    "        ######################    \n",
    "        # validate the model #\n",
    "        ######################\n",
    "        model.eval() # prep model for evaluation\n",
    "        correct, total = 0, 0\n",
    "        for data, target in valid_loader:\n",
    "            # forward pass: compute predicted outputs by passing inputs to the model\n",
    "            output = model(data)\n",
    "            # calculate the loss\n",
    "            loss = criterion(output, target)\n",
    "            \n",
    "            # record validation loss\n",
    "            valid_losses.append(loss.item())\n",
    "            _, predicted = torch.max(output.data, 1)\n",
    "            total += output.size(0)\n",
    "            correct += (predicted == target).sum().item()\n",
    "\n",
    "        accuracy = correct / total\n",
    "\n",
    "\n",
    "        # print training/validation statistics \n",
    "        # calculate average loss over an epoch\n",
    "        train_loss = np.average(train_losses)\n",
    "        valid_loss = np.average(valid_losses)\n",
    "        avg_train_losses.append(train_loss)\n",
    "        avg_valid_losses.append(valid_loss)\n",
    "        \n",
    "        epoch_len = len(str(n_epochs))\n",
    "        \n",
    "        print_msg = (f'[{epoch:>{epoch_len}}/{n_epochs:>{epoch_len}}] ' +\n",
    "                     f'train_loss: {train_loss:.5f} ' +\n",
    "                     f'valid_loss: {valid_loss:.5f} ' +\n",
    "                     f'accuracy:   {accuracy * 100:.2f}%'\n",
    "                    )\n",
    "        \n",
    "        print(print_msg)\n",
    "        \n",
    "        # clear lists to track next epoch\n",
    "        train_losses = []\n",
    "        valid_losses = []\n",
    "        \n",
    "\n",
    "    return  model, avg_train_losses, avg_valid_losses"
   ]
  },
  {
   "cell_type": "code",
   "execution_count": 22,
   "id": "30575866-3b7e-4014-802a-fcba12187880",
   "metadata": {},
   "outputs": [
    {
     "name": "stdout",
     "output_type": "stream",
     "text": [
      "[  1/100] train_loss: 2.10741 valid_loss: 1.98725 accuracy:   26.33%\n",
      "[  2/100] train_loss: 1.92137 valid_loss: 1.84737 accuracy:   20.67%\n",
      "[  3/100] train_loss: 1.71937 valid_loss: 1.63864 accuracy:   35.00%\n",
      "[  4/100] train_loss: 1.53044 valid_loss: 1.36740 accuracy:   42.67%\n",
      "[  5/100] train_loss: 1.18837 valid_loss: 1.04533 accuracy:   54.67%\n",
      "[  6/100] train_loss: 0.94108 valid_loss: 0.94252 accuracy:   57.00%\n",
      "[  7/100] train_loss: 0.84770 valid_loss: 0.89821 accuracy:   58.00%\n",
      "[  8/100] train_loss: 0.82182 valid_loss: 0.78819 accuracy:   70.00%\n",
      "[  9/100] train_loss: 0.70924 valid_loss: 0.71205 accuracy:   67.00%\n",
      "[ 10/100] train_loss: 0.62654 valid_loss: 0.79840 accuracy:   64.00%\n",
      "[ 11/100] train_loss: 0.57661 valid_loss: 0.67285 accuracy:   70.67%\n",
      "[ 12/100] train_loss: 0.47900 valid_loss: 0.50911 accuracy:   79.67%\n",
      "[ 13/100] train_loss: 0.47521 valid_loss: 0.78579 accuracy:   74.67%\n",
      "[ 14/100] train_loss: 0.58979 valid_loss: 0.66104 accuracy:   72.33%\n",
      "[ 15/100] train_loss: 0.48775 valid_loss: 0.50180 accuracy:   80.00%\n",
      "[ 16/100] train_loss: 0.43181 valid_loss: 0.48022 accuracy:   78.67%\n",
      "[ 17/100] train_loss: 0.47738 valid_loss: 0.43583 accuracy:   80.67%\n",
      "[ 18/100] train_loss: 0.47335 valid_loss: 0.45483 accuracy:   80.67%\n",
      "[ 19/100] train_loss: 0.40384 valid_loss: 0.54651 accuracy:   77.00%\n",
      "[ 20/100] train_loss: 0.35616 valid_loss: 0.38430 accuracy:   85.67%\n",
      "[ 21/100] train_loss: 0.29977 valid_loss: 0.34831 accuracy:   87.00%\n",
      "[ 22/100] train_loss: 0.27644 valid_loss: 0.34627 accuracy:   86.33%\n",
      "[ 23/100] train_loss: 0.26808 valid_loss: 0.32997 accuracy:   84.33%\n",
      "[ 24/100] train_loss: 0.25575 valid_loss: 0.31757 accuracy:   87.67%\n",
      "[ 25/100] train_loss: 0.22863 valid_loss: 0.32592 accuracy:   87.00%\n",
      "[ 26/100] train_loss: 0.22884 valid_loss: 0.32319 accuracy:   89.33%\n",
      "[ 27/100] train_loss: 0.21584 valid_loss: 0.31368 accuracy:   88.33%\n",
      "[ 28/100] train_loss: 0.22181 valid_loss: 0.30930 accuracy:   90.33%\n",
      "[ 29/100] train_loss: 0.20662 valid_loss: 0.31308 accuracy:   90.67%\n",
      "[ 30/100] train_loss: 0.21857 valid_loss: 0.49574 accuracy:   83.00%\n",
      "[ 31/100] train_loss: 0.38753 valid_loss: 0.42090 accuracy:   85.00%\n",
      "[ 32/100] train_loss: 0.59835 valid_loss: 0.71629 accuracy:   70.67%\n",
      "[ 33/100] train_loss: 0.54484 valid_loss: 0.72303 accuracy:   71.33%\n",
      "[ 34/100] train_loss: 0.42180 valid_loss: 0.41847 accuracy:   83.33%\n",
      "[ 35/100] train_loss: 0.30365 valid_loss: 0.28008 accuracy:   88.33%\n",
      "[ 36/100] train_loss: 0.23524 valid_loss: 0.25868 accuracy:   89.00%\n",
      "[ 37/100] train_loss: 0.20401 valid_loss: 0.27674 accuracy:   88.67%\n",
      "[ 38/100] train_loss: 0.19911 valid_loss: 0.23070 accuracy:   91.33%\n",
      "[ 39/100] train_loss: 0.18031 valid_loss: 0.24820 accuracy:   91.67%\n",
      "[ 40/100] train_loss: 0.16728 valid_loss: 0.26359 accuracy:   90.00%\n",
      "[ 41/100] train_loss: 0.17040 valid_loss: 0.27417 accuracy:   91.33%\n",
      "[ 42/100] train_loss: 0.15368 valid_loss: 0.24174 accuracy:   91.33%\n",
      "[ 43/100] train_loss: 0.15278 valid_loss: 0.25037 accuracy:   92.67%\n",
      "[ 44/100] train_loss: 0.15971 valid_loss: 0.18450 accuracy:   91.67%\n",
      "[ 45/100] train_loss: 0.15576 valid_loss: 0.21209 accuracy:   93.67%\n",
      "[ 46/100] train_loss: 0.16465 valid_loss: 0.19852 accuracy:   90.67%\n",
      "[ 47/100] train_loss: 0.14959 valid_loss: 0.25091 accuracy:   94.33%\n",
      "[ 48/100] train_loss: 0.15846 valid_loss: 0.36519 accuracy:   89.67%\n",
      "[ 49/100] train_loss: 0.15700 valid_loss: 0.23343 accuracy:   91.67%\n",
      "[ 50/100] train_loss: 0.14165 valid_loss: 0.31692 accuracy:   90.00%\n",
      "[ 51/100] train_loss: 0.15070 valid_loss: 0.25078 accuracy:   90.67%\n",
      "[ 52/100] train_loss: 0.14915 valid_loss: 0.24162 accuracy:   93.00%\n",
      "[ 53/100] train_loss: 0.14422 valid_loss: 0.24024 accuracy:   92.00%\n",
      "[ 54/100] train_loss: 0.16167 valid_loss: 0.25508 accuracy:   93.00%\n",
      "[ 55/100] train_loss: 0.15546 valid_loss: 0.31835 accuracy:   90.00%\n",
      "[ 56/100] train_loss: 0.13550 valid_loss: 0.26275 accuracy:   91.67%\n",
      "[ 57/100] train_loss: 0.12648 valid_loss: 0.25326 accuracy:   93.33%\n",
      "[ 58/100] train_loss: 0.13571 valid_loss: 0.24844 accuracy:   92.67%\n",
      "[ 59/100] train_loss: 0.13288 valid_loss: 0.23063 accuracy:   91.67%\n",
      "[ 60/100] train_loss: 0.12662 valid_loss: 0.22388 accuracy:   93.33%\n",
      "[ 61/100] train_loss: 0.12238 valid_loss: 0.25443 accuracy:   92.00%\n",
      "[ 62/100] train_loss: 0.13001 valid_loss: 0.25806 accuracy:   92.33%\n",
      "[ 63/100] train_loss: 0.13137 valid_loss: 0.23841 accuracy:   94.33%\n",
      "[ 64/100] train_loss: 0.14237 valid_loss: 0.30272 accuracy:   89.33%\n",
      "[ 65/100] train_loss: 0.14178 valid_loss: 0.18727 accuracy:   92.33%\n",
      "[ 66/100] train_loss: 0.15323 valid_loss: 0.29451 accuracy:   92.33%\n",
      "[ 67/100] train_loss: 0.15861 valid_loss: 0.26855 accuracy:   91.00%\n",
      "[ 68/100] train_loss: 0.14542 valid_loss: 0.27984 accuracy:   93.00%\n",
      "[ 69/100] train_loss: 0.17853 valid_loss: 0.24016 accuracy:   92.67%\n",
      "[ 70/100] train_loss: 0.26414 valid_loss: 0.26944 accuracy:   89.00%\n",
      "[ 71/100] train_loss: 0.94549 valid_loss: 0.69748 accuracy:   76.33%\n",
      "[ 72/100] train_loss: 0.56495 valid_loss: 0.58801 accuracy:   78.33%\n",
      "[ 73/100] train_loss: 0.38505 valid_loss: 0.36929 accuracy:   84.33%\n",
      "[ 74/100] train_loss: 0.24255 valid_loss: 0.29990 accuracy:   86.67%\n",
      "[ 75/100] train_loss: 0.19171 valid_loss: 0.21364 accuracy:   92.67%\n",
      "[ 76/100] train_loss: 0.17032 valid_loss: 0.23433 accuracy:   90.00%\n",
      "[ 77/100] train_loss: 0.14818 valid_loss: 0.23538 accuracy:   92.00%\n",
      "[ 78/100] train_loss: 0.14922 valid_loss: 0.21243 accuracy:   91.67%\n",
      "[ 79/100] train_loss: 0.13070 valid_loss: 0.22402 accuracy:   92.67%\n",
      "[ 80/100] train_loss: 0.13284 valid_loss: 0.21084 accuracy:   92.00%\n",
      "[ 81/100] train_loss: 0.13323 valid_loss: 0.21131 accuracy:   93.67%\n",
      "[ 82/100] train_loss: 0.13112 valid_loss: 0.20842 accuracy:   93.67%\n",
      "[ 83/100] train_loss: 0.12924 valid_loss: 0.24531 accuracy:   90.67%\n",
      "[ 84/100] train_loss: 0.12285 valid_loss: 0.22107 accuracy:   92.00%\n",
      "[ 85/100] train_loss: 0.13333 valid_loss: 0.23387 accuracy:   91.33%\n",
      "[ 86/100] train_loss: 0.11904 valid_loss: 0.23935 accuracy:   91.33%\n",
      "[ 87/100] train_loss: 0.12710 valid_loss: 0.23444 accuracy:   93.00%\n",
      "[ 88/100] train_loss: 0.13662 valid_loss: 0.13854 accuracy:   94.00%\n",
      "[ 89/100] train_loss: 0.12845 valid_loss: 0.22870 accuracy:   92.00%\n",
      "[ 90/100] train_loss: 0.12839 valid_loss: 0.20089 accuracy:   92.67%\n",
      "[ 91/100] train_loss: 0.12045 valid_loss: 0.19530 accuracy:   93.33%\n",
      "[ 92/100] train_loss: 0.12728 valid_loss: 0.21330 accuracy:   91.33%\n",
      "[ 93/100] train_loss: 0.12425 valid_loss: 0.21920 accuracy:   92.33%\n",
      "[ 94/100] train_loss: 0.10918 valid_loss: 0.22667 accuracy:   93.33%\n",
      "[ 95/100] train_loss: 0.12486 valid_loss: 0.24971 accuracy:   91.67%\n",
      "[ 96/100] train_loss: 0.12066 valid_loss: 0.19556 accuracy:   90.33%\n",
      "[ 97/100] train_loss: 0.12784 valid_loss: 0.20453 accuracy:   92.33%\n",
      "[ 98/100] train_loss: 0.12665 valid_loss: 0.23647 accuracy:   91.33%\n",
      "[ 99/100] train_loss: 0.12536 valid_loss: 0.22857 accuracy:   94.00%\n",
      "[100/100] train_loss: 0.12223 valid_loss: 0.23798 accuracy:   92.00%\n"
     ]
    }
   ],
   "source": [
    "model, train_loss, valid_loss = train_model(model=model, batch_size=batch_size, n_epochs=100)"
   ]
  },
  {
   "cell_type": "code",
   "execution_count": null,
   "id": "e7ee5827-f876-4448-95e7-fb04b70b1de1",
   "metadata": {},
   "outputs": [],
   "source": []
  }
 ],
 "metadata": {
  "kernelspec": {
   "display_name": "Python 3 (ipykernel)",
   "language": "python",
   "name": "python3"
  },
  "language_info": {
   "codemirror_mode": {
    "name": "ipython",
    "version": 3
   },
   "file_extension": ".py",
   "mimetype": "text/x-python",
   "name": "python",
   "nbconvert_exporter": "python",
   "pygments_lexer": "ipython3",
   "version": "3.11.5"
  }
 },
 "nbformat": 4,
 "nbformat_minor": 5
}
