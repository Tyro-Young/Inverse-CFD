{
 "cells": [
  {
   "cell_type": "code",
   "execution_count": 62,
   "id": "e02ac0d5-57d1-462a-9c5a-a7a06733afb7",
   "metadata": {},
   "outputs": [],
   "source": [
    "import numpy as np\n",
    "import pandas as pd\n",
    "import torch\n",
    "import h5py\n",
    "import re\n",
    "import torch.nn as nn \n",
    "import matplotlib.pyplot as plt\n",
    "from torch.utils.data import TensorDataset, DataLoader\n",
    "from torch.utils.data.dataset import random_split\n",
    "from torch.utils.data import TensorDataset, DataLoader\n",
    "import torch.optim as optim\n",
    "\n",
    "\n"
   ]
  },
  {
   "cell_type": "code",
   "execution_count": 278,
   "id": "f3f04bb4-cabd-4626-9656-2224c67188d5",
   "metadata": {},
   "outputs": [],
   "source": [
    "# #Trying to find for all source for the given smoke detectors just the time and density is not enough to predict the source \n",
    "\n",
    "# smoke_detectors = np.array([[60.0, 60.0],[30.0, 80.0]])\n",
    "\n",
    "# # Open the HDF5 file\n",
    "# with h5py.File('Smoke Flow Data.h5', 'r') as hf:\n",
    "#     # Initialize lists to store time, x, y, and density values\n",
    "#     all_time_values = []\n",
    "#     all_x_values = []\n",
    "#     all_y_values = []\n",
    "#     all_density_values = []\n",
    "#     all_source_values = []\n",
    "\n",
    "    \n",
    "#     for smoke_detector_pos in smoke_detectors:\n",
    "#         x, y = smoke_detector_pos\n",
    "        \n",
    "#         for source_group in hf.keys():\n",
    "#             group = hf[source_group]\n",
    "#             density_dataset = group['density']\n",
    "\n",
    "#             source_value = float(source_group.split('-')[-1])\n",
    "\n",
    "#             # Convert to PyTorch tensors directly\n",
    "#             density_value = density_dataset[:, int(x), int(y), 0]\n",
    "\n",
    "#             all_source_values.append(source_value)\n",
    "#             all_density_values.append(density_value)\n",
    "    "
   ]
  },
  {
   "cell_type": "code",
   "execution_count": 279,
   "id": "413671d3-af74-4e3e-b5b6-d8cb021780d8",
   "metadata": {},
   "outputs": [
    {
     "name": "stdout",
     "output_type": "stream",
     "text": [
      "18\n",
      "501\n",
      "18\n"
     ]
    }
   ],
   "source": [
    "print(len(all_density_values))\n",
    "print(len(all_density_values[0]))\n",
    "print(len(all_source_values))"
   ]
  },
  {
   "cell_type": "code",
   "execution_count": 445,
   "id": "49e9e2da-1083-437e-9eb3-8db6429cc9e1",
   "metadata": {},
   "outputs": [
    {
     "name": "stdout",
     "output_type": "stream",
     "text": [
      "202\n",
      "404\n",
      "606\n",
      "808\n",
      "1010\n",
      "1212\n",
      "1414\n",
      "1616\n",
      "1818\n",
      "2020\n",
      "2222\n",
      "2424\n",
      "2626\n",
      "2828\n",
      "3030\n",
      "3232\n",
      "3434\n",
      "3636\n"
     ]
    }
   ],
   "source": [
    "### Sliding window techniques for range of 300 - hopefully works\n",
    "\n",
    "window_size = 300  # Adjust the window size as needed\n",
    "\n",
    "with h5py.File('Smoke Flow Data.h5', 'r') as hf:\n",
    "    # Initialize lists to store time, x, y, and density values\n",
    "    all_time_values = []\n",
    "    all_x_values = []\n",
    "    all_y_values = []\n",
    "    all_density_values = []\n",
    "    all_source_values = []\n",
    "\n",
    "    for smoke_detector_pos in smoke_detectors:\n",
    "        x, y = smoke_detector_pos\n",
    "\n",
    "        for source_group in hf.keys():\n",
    "            group = hf[source_group]\n",
    "            density_dataset = group['density']\n",
    "\n",
    "            source_value = float(source_group.split('-')[-1])\n",
    "\n",
    "            # Get the time steps\n",
    "            time_steps = density_dataset.shape[0]\n",
    "\n",
    "            # Iterate through time steps with sliding window\n",
    "            for i in range(time_steps - window_size + 1):\n",
    "                # print(i)\n",
    "                # Extract density values within the sliding window\n",
    "                density_values = density_dataset[i:i + window_size, int(x), int(y), 0]\n",
    "\n",
    "                # Append the values to the lists\n",
    "                all_source_values.append(source_value)\n",
    "                all_density_values.append(density_values)\n",
    "               \n",
    "\n",
    "                # # Assuming time values are integers for simplicity\n",
    "                # all_time_values.extend(range(i, i + window_size))\n",
    "                # all_x_values.extend([x] * window_size)\n",
    "                # all_y_values.extend([y] * window_size)\n",
    "            # print(len(all_density_values))"
   ]
  },
  {
   "cell_type": "code",
   "execution_count": 422,
   "id": "fdacdf07-ac8a-407b-b4b9-0f666d85578e",
   "metadata": {},
   "outputs": [
    {
     "name": "stdout",
     "output_type": "stream",
     "text": [
      "3636\n",
      "3636\n",
      "300\n",
      "torch.Size([3636])\n",
      "torch.Size([3636, 300])\n",
      "tensor([10., 10., 10.,  ..., 90., 90., 90.])\n"
     ]
    }
   ],
   "source": [
    "# # # Convert lists to PyTorch tensors\n",
    "source_tensor = torch.tensor(all_source_values, dtype=torch.float32)\n",
    "density_tensor = torch.tensor(all_density_values, dtype=torch.float32)\n",
    "\n",
    "print(len(source_tensor))\n",
    "print(len(density_tensor))\n",
    "print(len(density_tensor[0]))\n",
    "print(source_tensor.shape)\n",
    "print(density_tensor.shape)\n",
    "print(source_tensor)"
   ]
  },
  {
   "cell_type": "code",
   "execution_count": 423,
   "id": "7730c17f-1ebe-4806-b6fa-bffef22255ba",
   "metadata": {},
   "outputs": [],
   "source": [
    "# # print(time_tensor.shape)\n",
    "# print(all_density_values.shape)\n",
    "# print(source_tensor.shape)"
   ]
  },
  {
   "cell_type": "code",
   "execution_count": 429,
   "id": "d2955139-ab08-46a5-bfff-bdc2fee5d51d",
   "metadata": {},
   "outputs": [
    {
     "name": "stdout",
     "output_type": "stream",
     "text": [
      "torch.Size([1818, 2, 300])\n",
      "torch.Size([1818, 2])\n"
     ]
    }
   ],
   "source": [
    "### K - Changed it to the shape of 9, 1 and printed in the below cell \n",
    "# density_tensor = density_tensor.view(9,2,-1)\n",
    "# source_tensor = source_tensor.reshape(9,1)\n",
    "# source_tensor = source_tensor[0:9]\n",
    "density_tensor = density_tensor.view(1818,2,-1)\n",
    "print(density_tensor.shape)\n",
    "\n",
    "# source_tensor = source_tensor.reshape(9,1)\n",
    "source_tensor = source_tensor.reshape(1818,2)\n",
    "print(source_tensor.shape)"
   ]
  },
  {
   "cell_type": "code",
   "execution_count": null,
   "id": "c1ce74c0-0ed9-4ba6-a054-5942397095c5",
   "metadata": {},
   "outputs": [],
   "source": []
  },
  {
   "cell_type": "code",
   "execution_count": 244,
   "id": "304dbac9-1784-42d9-bb42-f314b9ce250b",
   "metadata": {},
   "outputs": [],
   "source": [
    "# for i in range(density_tensor.size(0)):\n",
    "#     print(f\"Values in the first dimension (batch {i}): {density_tensor[i]}\")\n",
    "#     print(\"length\",len(density_tensor[i]))"
   ]
  },
  {
   "cell_type": "code",
   "execution_count": 430,
   "id": "0a63cf7e-f9ad-4c8a-a3f1-3a38e96b3143",
   "metadata": {},
   "outputs": [
    {
     "data": {
      "text/plain": [
       "[<matplotlib.lines.Line2D at 0x152c727c0>]"
      ]
     },
     "execution_count": 430,
     "metadata": {},
     "output_type": "execute_result"
    },
    {
     "data": {
      "image/png": "[encoded data removed]",
      "text/plain": [
       "<Figure size 640x480 with 1 Axes>"
      ]
     },
     "metadata": {},
     "output_type": "display_data"
    }
   ],
   "source": [
    "plt.plot(density_tensor[6,1,:])"
   ]
  },
  {
   "cell_type": "code",
   "execution_count": 431,
   "id": "e7d9a2c8-c6bd-4248-a6dd-882636520a1f",
   "metadata": {},
   "outputs": [
    {
     "data": {
      "text/plain": [
       "[<matplotlib.lines.Line2D at 0x152ba8ca0>]"
      ]
     },
     "execution_count": 431,
     "metadata": {},
     "output_type": "execute_result"
    },
    {
     "data": {
      "image/png": "[encoded data removed]",
      "text/plain": [
       "<Figure size 640x480 with 2 Axes>"
      ]
     },
     "metadata": {},
     "output_type": "display_data"
    }
   ],
   "source": [
    "# import torch.nn as nn\n",
    "my_test_layer = nn.AvgPool1d(100)\n",
    "plt.subplot(121)\n",
    "plt.plot(my_test_layer(density_tensor)[4,0,:])\n",
    "plt.subplot(122)\n",
    "plt.plot((density_tensor)[4,0,:])\n"
   ]
  },
  {
   "cell_type": "code",
   "execution_count": 311,
   "id": "6f2461aa-7272-4c26-9f1e-f6c1d6ced8cb",
   "metadata": {},
   "outputs": [],
   "source": [
    "# conv1d_layer = torch.nn.Conv1d(in_channels=2, out_channels =2 , kernel_size=9)\n",
    "# source_tensor = torch.randn((9, 1))  # Assuming 1D output\n",
    "# print(source_tensor.shape)\n",
    "# print(len(density_tensor))"
   ]
  },
  {
   "cell_type": "code",
   "execution_count": 432,
   "id": "56fdb2ce-04a4-4689-baa2-da56692509d4",
   "metadata": {},
   "outputs": [
    {
     "data": {
      "text/plain": [
       "tensor([[10., 10.],\n",
       "        [10., 10.],\n",
       "        [10., 10.],\n",
       "        ...,\n",
       "        [90., 90.],\n",
       "        [90., 90.],\n",
       "        [90., 90.]])"
      ]
     },
     "execution_count": 432,
     "metadata": {},
     "output_type": "execute_result"
    }
   ],
   "source": [
    "source_tensor"
   ]
  },
  {
   "cell_type": "code",
   "execution_count": 451,
   "id": "9dabd154-c2b2-4f0c-b82d-8566b8cc92bb",
   "metadata": {},
   "outputs": [],
   "source": [
    "# Assuming you have separate training and testing datasets\n",
    "num_samples = len(density_tensor)\n",
    "split_ratio = 0.8\n",
    "split_index = int(split_ratio * num_samples)"
   ]
  },
  {
   "cell_type": "code",
   "execution_count": 452,
   "id": "d39f88d7-b195-48c8-be02-cd270b9722bb",
   "metadata": {},
   "outputs": [],
   "source": [
    "train_density = density_tensor[:split_index]\n",
    "test_density = density_tensor[split_index:]\n",
    "train_source = source_tensor[:split_index]\n",
    "test_source = source_tensor[split_index:]\n"
   ]
  },
  {
   "cell_type": "code",
   "execution_count": 453,
   "id": "627ca6af-ff31-472e-b93b-b47659e47b49",
   "metadata": {},
   "outputs": [
    {
     "data": {
      "text/plain": [
       "tensor([[10., 10.],\n",
       "        [10., 10.],\n",
       "        [10., 10.],\n",
       "        ...,\n",
       "        [40., 40.],\n",
       "        [40., 40.],\n",
       "        [40., 40.]])"
      ]
     },
     "execution_count": 453,
     "metadata": {},
     "output_type": "execute_result"
    }
   ],
   "source": [
    "train_source"
   ]
  },
  {
   "cell_type": "code",
   "execution_count": 462,
   "id": "3a808537-face-41cf-b455-e18527ff1e9a",
   "metadata": {},
   "outputs": [],
   "source": [
    "batch_size = 128\n",
    "\n",
    "# Create DataLoader for training set\n",
    "train_dataset = TensorDataset(train_density, train_source)\n",
    "train_loader = DataLoader(train_dataset, batch_size=batch_size, shuffle=True)\n",
    "\n",
    "# Create DataLoader for testing set\n",
    "test_dataset = TensorDataset(test_density, test_source)\n",
    "test_loader = DataLoader(test_dataset, batch_size=batch_size, shuffle=False)\n",
    "\n"
   ]
  },
  {
   "cell_type": "code",
   "execution_count": 480,
   "id": "e8314d70-9c1c-4a42-83c4-27570507b5c7",
   "metadata": {},
   "outputs": [],
   "source": [
    "# Define a simple CNN model\n",
    "class SimpleCNN(nn.Module):\n",
    "    def __init__(self, debug=0):\n",
    "        super(SimpleCNN, self).__init__()\n",
    "\n",
    "        self.debug = debug\n",
    "        \n",
    "        self.conv1 = nn.Conv1d(in_channels=2, out_channels=4, kernel_size=3, stride=1, padding=1)\n",
    "\n",
    "        self.relu1 = nn.ReLU()\n",
    "    \n",
    "        self.avgpool1 = nn.AvgPool1d(10)\n",
    "        \n",
    "        self.conv2 = nn.Conv1d(in_channels=4, out_channels=8, kernel_size=3, stride=1, padding=1)\n",
    "    \n",
    "        self.avgpool2 = nn.AvgPool1d(6)\n",
    "\n",
    "        self.conv3 = nn.Conv1d(in_channels=8, out_channels=16, kernel_size=3, stride=2, padding=1)\n",
    "       \n",
    "        self.avgpool3 = nn.AvgPool1d(3)\n",
    "\n",
    "        self.relu2 = nn.ReLU()\n",
    "\n",
    "        self.conv4 = nn.Conv1d(in_channels=16, out_channels=16, kernel_size=3, stride=1, padding=1)\n",
    "\n",
    "        self.relu3 = nn.ReLU()\n",
    "\n",
    "        # Adjust the linear layer input size based on the number of output channels from the last convolutional layer\n",
    "        # self.fc = nn.Linear(8, 16)\n",
    "        \n",
    "        self.flatten = nn.Flatten()\n",
    "        self.linear_layer = nn.Linear(16, 1)\n",
    "\n",
    "    def forward(self, x):\n",
    "        # print(\"Size before reshaping:\", x.size())\n",
    "        x = self.conv1(x)\n",
    "        x = self.relu1(x)\n",
    "        x = self.avgpool1(x)\n",
    "\n",
    "        # print(\"Size before reshaping:\", x.size())\n",
    "        \n",
    "        x = self.conv2(x)\n",
    "        # x = self.relu2(x)\n",
    "        x = self.avgpool2(x)\n",
    "\n",
    "        # print(\"Size before reshaping:\", x.size())\n",
    "        x = self.conv3(x)\n",
    "        x = self.avgpool3(x)\n",
    "        x = self.relu2(x)\n",
    "\n",
    "        # print(\"Size before reshaping:\", x.size())\n",
    "        x = self.conv4(x)\n",
    "        x = self.relu3(x)\n",
    "\n",
    "        # print(\"Size before flattening:\", x.size())  # Add this line to check the size\n",
    "        x = self.flatten(x)\n",
    "        if self.debug:\n",
    "            print(x.shape)\n",
    "        x = self.linear_layer(x)\n",
    "\n",
    "        # print(\"Size before reshaping:\", x.size())\n",
    "        return x\n",
    "# at some p[oint we can switch to classification (equivalent to detetchgfgndfjkgh the room where the smoke is)"
   ]
  },
  {
   "cell_type": "code",
   "execution_count": 329,
   "id": "1633a509-375a-44ad-8396-c85133150240",
   "metadata": {},
   "outputs": [],
   "source": [
    "# def lr_lambda(epoch):\n",
    "#     # LR to be 0.1 * (1/1+0.01*epoch)\n",
    "#     base_lr = 0.1\n",
    "#     factor = 0.001\n",
    "#     return base_lr/(1+factor*epoch)"
   ]
  },
  {
   "cell_type": "code",
   "execution_count": 481,
   "id": "54e1c280-89f2-4081-9f37-4697c326eae3",
   "metadata": {},
   "outputs": [],
   "source": [
    "# Create an instance of the model\n",
    "model = SimpleCNN(debug=0)\n",
    "## List for loss\n",
    "train_losses = []\n",
    "test_losses = []\n",
    "\n",
    "# Loss function and optimizer\n",
    "criterion = nn.MSELoss()\n",
    "optimizer = optim.Adam(model.parameters(), lr=0.01)\n",
    "\n",
    "# Learning rate scheduler\n",
    "# scheduler = optim.lr_scheduler.LambdaLR(optimizer,lr_lambda)  # Adjust step_size and gamma as needed\n"
   ]
  },
  {
   "cell_type": "code",
   "execution_count": 482,
   "id": "9be82a5a-6089-4a55-8dd6-56aa0e33fc60",
   "metadata": {},
   "outputs": [
    {
     "name": "stdout",
     "output_type": "stream",
     "text": [
      "Epoch [0/100], Loss: 2269.8798828125\n",
      "Epoch [2/100], Loss: 1023.7583618164062\n",
      "Epoch [4/100], Loss: 854.2447509765625\n",
      "Epoch [6/100], Loss: 637.2994384765625\n",
      "Epoch [8/100], Loss: 607.2345581054688\n",
      "Epoch [10/100], Loss: 656.7335205078125\n",
      "Epoch [12/100], Loss: 583.3344116210938\n",
      "Epoch [14/100], Loss: 698.0215454101562\n",
      "Epoch [16/100], Loss: 551.5860595703125\n",
      "Epoch [18/100], Loss: 644.5272216796875\n",
      "Epoch [20/100], Loss: 528.0069580078125\n",
      "Epoch [22/100], Loss: 582.6764526367188\n",
      "Epoch [24/100], Loss: 682.3333129882812\n",
      "Epoch [26/100], Loss: 660.4523315429688\n",
      "Epoch [28/100], Loss: 634.8528442382812\n",
      "Epoch [30/100], Loss: 727.7540283203125\n",
      "Epoch [32/100], Loss: 715.4033203125\n",
      "Epoch [34/100], Loss: 677.223388671875\n",
      "Epoch [36/100], Loss: 656.5161743164062\n",
      "Epoch [38/100], Loss: 588.1859741210938\n",
      "Epoch [40/100], Loss: 654.5703125\n",
      "Epoch [42/100], Loss: 706.6381225585938\n",
      "Epoch [44/100], Loss: 732.3369750976562\n",
      "Epoch [46/100], Loss: 572.782470703125\n",
      "Epoch [48/100], Loss: 659.4308471679688\n",
      "Epoch [50/100], Loss: 722.2645263671875\n",
      "Epoch [52/100], Loss: 593.9884033203125\n",
      "Epoch [54/100], Loss: 613.645263671875\n",
      "Epoch [56/100], Loss: 554.6542358398438\n",
      "Epoch [58/100], Loss: 645.9141235351562\n",
      "Epoch [60/100], Loss: 627.6826782226562\n",
      "Epoch [62/100], Loss: 605.3367919921875\n",
      "Epoch [64/100], Loss: 685.4508056640625\n",
      "Epoch [66/100], Loss: 617.6455078125\n",
      "Epoch [68/100], Loss: 576.8273315429688\n",
      "Epoch [70/100], Loss: 551.7178955078125\n",
      "Epoch [72/100], Loss: 664.0965576171875\n",
      "Epoch [74/100], Loss: 664.9996948242188\n",
      "Epoch [76/100], Loss: 685.7933349609375\n",
      "Epoch [78/100], Loss: 641.7726440429688\n",
      "Epoch [80/100], Loss: 580.9194946289062\n",
      "Epoch [82/100], Loss: 594.7311401367188\n",
      "Epoch [84/100], Loss: 623.2254028320312\n",
      "Epoch [86/100], Loss: 660.7163696289062\n",
      "Epoch [88/100], Loss: 646.3959350585938\n",
      "Epoch [90/100], Loss: 585.0934448242188\n",
      "Epoch [92/100], Loss: 662.0548706054688\n",
      "Epoch [94/100], Loss: 574.6718139648438\n",
      "Epoch [96/100], Loss: 689.127685546875\n",
      "Epoch [98/100], Loss: 495.6969299316406\n"
     ]
    }
   ],
   "source": [
    "# Training loop\n",
    "epochs = 100\n",
    "for epoch in range(epochs):\n",
    "    model.train()\n",
    "    for density_batch, source_batch in train_loader:\n",
    "        # # Forward pass\n",
    "        # print(density_batch.shape)\n",
    "        outputs = model(density_batch)\n",
    "\n",
    "        # print(outputs.shape, source_batch.shape)\n",
    "\n",
    "        # Compute loss\n",
    "        loss = criterion(outputs, source_batch)\n",
    "\n",
    "        # Backward pass and optimization\n",
    "        optimizer.zero_grad()\n",
    "        loss.backward()\n",
    "        optimizer.step()\n",
    "\n",
    "    # Learning rate scheduler step\n",
    "    # scheduler.step()\n",
    "    \n",
    "    if epoch % 2 == 0:\n",
    "        print(f'Epoch [{epoch}/{epochs}], Loss: {loss.item()}')\n",
    "\n",
    "# Testing loop\n",
    "    model.eval()\n",
    "with torch.no_grad():\n",
    "    for density_batch, source_batch in test_loader:\n",
    "        test_outputs = model(density_batch)\n",
    "        test_loss = criterion(test_outputs, source_batch)\n",
    "        \n",
    "\n",
    "# After training and testing, you can use the model to make predictions\n",
    "predicted_sources = model(density_tensor)"
   ]
  },
  {
   "cell_type": "code",
   "execution_count": 474,
   "id": "1d4bfd0b-9b50-4c5f-9621-1f054bda1ab5",
   "metadata": {},
   "outputs": [],
   "source": [
    "model.debug = 0"
   ]
  },
  {
   "cell_type": "code",
   "execution_count": 475,
   "id": "115f0ef4-88af-4c09-b6e1-c67b6d76e5ee",
   "metadata": {},
   "outputs": [
    {
     "data": {
      "text/plain": [
       "1333"
      ]
     },
     "execution_count": 475,
     "metadata": {},
     "output_type": "execute_result"
    }
   ],
   "source": [
    "model_parameters = filter(lambda p: p.requires_grad, model.parameters())\n",
    "params = sum([np.prod(p.size()) for p in model_parameters])\n",
    "params"
   ]
  },
  {
   "cell_type": "code",
   "execution_count": 476,
   "id": "a4e7a558-6f06-4188-a3f8-2919effbd00c",
   "metadata": {},
   "outputs": [
    {
     "data": {
      "text/plain": [
       "tensor([[90., 90.],\n",
       "        [90., 90.],\n",
       "        [90., 90.],\n",
       "        [90., 90.],\n",
       "        [90., 90.],\n",
       "        [90., 90.],\n",
       "        [90., 90.],\n",
       "        [90., 90.],\n",
       "        [90., 90.],\n",
       "        [90., 90.],\n",
       "        [90., 90.],\n",
       "        [90., 90.],\n",
       "        [90., 90.],\n",
       "        [90., 90.],\n",
       "        [90., 90.],\n",
       "        [90., 90.],\n",
       "        [90., 90.],\n",
       "        [90., 90.],\n",
       "        [90., 90.],\n",
       "        [90., 90.],\n",
       "        [90., 90.],\n",
       "        [90., 90.],\n",
       "        [90., 90.],\n",
       "        [90., 90.],\n",
       "        [90., 90.],\n",
       "        [90., 90.],\n",
       "        [90., 90.],\n",
       "        [90., 90.],\n",
       "        [90., 90.],\n",
       "        [90., 90.],\n",
       "        [90., 90.],\n",
       "        [90., 90.],\n",
       "        [90., 90.],\n",
       "        [90., 90.]])"
      ]
     },
     "execution_count": 476,
     "metadata": {},
     "output_type": "execute_result"
    }
   ],
   "source": [
    "source_batch"
   ]
  },
  {
   "cell_type": "code",
   "execution_count": null,
   "id": "a3fd6f0f-b8c1-4ceb-a3f2-f9100112e3a1",
   "metadata": {},
   "outputs": [],
   "source": []
  }
 ],
 "metadata": {
  "kernelspec": {
   "display_name": "Python 3 (ipykernel)",
   "language": "python",
   "name": "python3"
  },
  "language_info": {
   "codemirror_mode": {
    "name": "ipython",
    "version": 3
   },
   "file_extension": ".py",
   "mimetype": "text/x-python",
   "name": "python",
   "nbconvert_exporter": "python",
   "pygments_lexer": "ipython3",
   "version": "3.9.6"
  }
 },
 "nbformat": 4,
 "nbformat_minor": 5
}
