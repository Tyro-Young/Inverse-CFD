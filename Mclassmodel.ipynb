{
 "cells": [
  {
   "cell_type": "code",
   "execution_count": 25,
   "id": "c0051a64-c493-4633-b264-d7794911529d",
   "metadata": {},
   "outputs": [],
   "source": [
    "import numpy as np\n",
    "import pandas as pd\n",
    "import torch\n",
    "import h5py\n",
    "import re\n",
    "import torch.nn as nn \n",
    "import matplotlib.pyplot as plt\n",
    "from torch.utils.data import TensorDataset, DataLoader\n",
    "from torch.utils.data.dataset import random_split\n",
    "from torch.utils.data import TensorDataset, DataLoader\n",
    "import torch.optim as optim\n",
    "from torch.optim.lr_scheduler import StepLR\n",
    "import torch.nn.functional as F\n",
    "from sklearn.model_selection import train_test_split"
   ]
  },
  {
   "cell_type": "code",
   "execution_count": 26,
   "id": "30562ec5-8073-48ab-b6f3-2c908023e1f4",
   "metadata": {},
   "outputs": [
    {
     "name": "stdout",
     "output_type": "stream",
     "text": [
      "Data tensor shape: torch.Size([9018, 3])\n",
      "tensor([ 0., 10.,  1.])\n"
     ]
    }
   ],
   "source": [
    "# Define the function to map source positions to classes\n",
    "def map_to_class(source_position):\n",
    "    return min(int((source_position - 10) / 10) + 1, 9)\n",
    "\n",
    "# Initialize a tensor to store class, density, and source position data\n",
    "data_tensor = torch.empty(0, 3, dtype=torch.float32)\n",
    "\n",
    "# Define the smoke detectors positions\n",
    "smoke_detectors = np.array([[60.0, 60.0], [30.0, 80.0]])\n",
    "\n",
    "# Open the HDF5 file in read mode\n",
    "with h5py.File(\"Smoke Flow Data.h5\", \"r\") as hf:\n",
    "    # Loop through each smoke detector\n",
    "    for detector_idx, smoke_detector_pos in enumerate(smoke_detectors):\n",
    "        x, y = smoke_detector_pos\n",
    "        \n",
    "        # Loop through each source position\n",
    "        for source_group_name in hf:\n",
    "            # Extract the source position value from the group name\n",
    "            source_position_str = source_group_name.split('-')[-1]\n",
    "            \n",
    "            # Convert the source position string to a numerical data type\n",
    "            source_position = float(source_position_str)\n",
    "            \n",
    "            # Map the source position to a class\n",
    "            class_label = map_to_class(source_position)\n",
    "            \n",
    "            # Access the 'density' dataset within the group\n",
    "            density_dataset = hf[source_group_name]['density']\n",
    "            \n",
    "            # Retrieve the density values at the specified position (x, y) for all time steps\n",
    "            density_values = torch.tensor(density_dataset[:, int(x), int(y), 0], dtype=torch.float32)\n",
    "            \n",
    "            # Create a tensor containing class, density, and source position information\n",
    "            class_tensor = torch.full((len(density_values), 1), class_label, dtype=torch.float32)\n",
    "            density_tensor = density_values.view(-1, 1)\n",
    "            position_tensor = torch.full((len(density_values), 1), source_position, dtype=torch.float32)\n",
    "            class_density_position_tensor = torch.cat((density_tensor, position_tensor,class_tensor), dim=1)\n",
    "            # print(\"class_density_position_tensor:\", class_density_position_tensor.shape)\n",
    "            \n",
    "            # Append the tensor to the data tensor\n",
    "            data_tensor = torch.cat((data_tensor, class_density_position_tensor), dim=0)\n",
    "\n",
    "# Print the shape of the data tensor\n",
    "print(\"Data tensor shape:\", data_tensor.shape)\n",
    "print(data_tensor[0])\n",
    "\n",
    "### First column : density values\n",
    "### Second column : source positin\n",
    "### third column : class name\n",
    "\n",
    "# for two different source 9018/ 2 \n",
    "# for 9 4509 / 9 = 501"
   ]
  },
  {
   "cell_type": "code",
   "execution_count": 27,
   "id": "4c143870-f10e-434c-b543-eae46a834b65",
   "metadata": {},
   "outputs": [],
   "source": [
    "features = data_tensor[:, :2]  # Density values and source positions\n",
    "labels = (data_tensor[:, 2] - 1).long() # Class labels (subtract 1 to make them 0-based)"
   ]
  },
  {
   "cell_type": "code",
   "execution_count": 28,
   "id": "cfa17bed-7f46-4a32-8604-93cc14d87bd5",
   "metadata": {},
   "outputs": [],
   "source": [
    "X_train, X_test, y_train, y_test = train_test_split(features, labels, test_size=0.2, random_state=42)\n",
    "# Create DataLoader for training and testing\n",
    "train_dataset = TensorDataset(X_train, y_train)\n",
    "test_dataset = TensorDataset(X_test, y_test)\n",
    "\n",
    "train_loader = DataLoader(train_dataset, batch_size= 128, shuffle=True)\n",
    "test_loader = DataLoader(test_dataset, batch_size= 128, shuffle=False)\n"
   ]
  },
  {
   "cell_type": "code",
   "execution_count": 29,
   "id": "405ef96e-4358-4d6b-8197-426e708684a6",
   "metadata": {},
   "outputs": [],
   "source": [
    "class EnhancedClassificationModel(nn.Module):\n",
    "    def __init__(self, input_size, hidden_size, num_classes):\n",
    "        super(EnhancedClassificationModel, self).__init__()\n",
    "        self.fc1 = nn.Linear(input_size, hidden_size)\n",
    "        self.bn1 = nn.BatchNorm1d(hidden_size)\n",
    "        self.relu1 = nn.ReLU()\n",
    "        self.dropout1 = nn.Dropout(0.5)\n",
    "        \n",
    "        self.fc2 = nn.Linear(hidden_size, hidden_size // 2)\n",
    "        self.bn2 = nn.BatchNorm1d(hidden_size // 2)\n",
    "        self.relu2 = nn.ReLU()\n",
    "        self.dropout2 = nn.Dropout(0.5)\n",
    "        \n",
    "        self.fc3 = nn.Linear(hidden_size // 2, num_classes)\n",
    "\n",
    "    def forward(self, x):\n",
    "        out = self.fc1(x)\n",
    "        out = self.bn1(out)\n",
    "        out = self.relu1(out)\n",
    "        # out = self.dropout1(out)\n",
    "        \n",
    "        out = self.fc2(out)\n",
    "        out = self.bn2(out)\n",
    "        out = self.relu2(out)\n",
    "        # out = self.dropout2(out)\n",
    "        \n",
    "        out = self.fc3(out)\n",
    "        return out"
   ]
  },
  {
   "cell_type": "code",
   "execution_count": 30,
   "id": "78caa980-5f35-4f2f-8907-adeb53e01459",
   "metadata": {},
   "outputs": [],
   "source": [
    "# Initialize the model, loss function, optimizer, and learning rate scheduler\n",
    "model = EnhancedClassificationModel(input_size = 2, hidden_size = 128, num_classes=9)\n",
    "criterion = nn.CrossEntropyLoss()\n",
    "optimizer = optim.Adam(model.parameters(), lr=0.0001)\n",
    "scheduler = StepLR(optimizer, step_size= .5, gamma=0.9)\n"
   ]
  },
  {
   "cell_type": "code",
   "execution_count": 31,
   "id": "c6682aa2-478f-475a-aa71-5deeaa3bd3bf",
   "metadata": {},
   "outputs": [
    {
     "name": "stdout",
     "output_type": "stream",
     "text": [
      "Epoch 1/40, Loss: 1.8261\n",
      "Epoch 2/40, Loss: 1.5794\n",
      "Epoch 3/40, Loss: 1.3697\n",
      "Epoch 4/40, Loss: 1.2629\n",
      "Epoch 5/40, Loss: 1.3908\n",
      "Epoch 6/40, Loss: 1.1539\n",
      "Epoch 7/40, Loss: 1.0911\n",
      "Epoch 8/40, Loss: 1.1516\n",
      "Epoch 9/40, Loss: 1.0371\n",
      "Epoch 10/40, Loss: 1.0770\n",
      "Epoch 11/40, Loss: 1.0790\n",
      "Epoch 12/40, Loss: 0.9789\n",
      "Epoch 13/40, Loss: 0.9881\n",
      "Epoch 14/40, Loss: 1.0082\n",
      "Epoch 15/40, Loss: 0.9615\n",
      "Epoch 16/40, Loss: 1.1920\n",
      "Epoch 17/40, Loss: 0.9862\n",
      "Epoch 18/40, Loss: 1.2604\n",
      "Epoch 19/40, Loss: 0.9881\n",
      "Epoch 20/40, Loss: 0.9455\n",
      "Epoch 21/40, Loss: 0.9308\n",
      "Epoch 22/40, Loss: 0.8842\n",
      "Epoch 23/40, Loss: 0.9219\n",
      "Epoch 24/40, Loss: 0.8840\n",
      "Epoch 25/40, Loss: 1.0464\n",
      "Epoch 26/40, Loss: 0.9415\n",
      "Epoch 27/40, Loss: 1.0066\n",
      "Epoch 28/40, Loss: 0.8864\n",
      "Epoch 29/40, Loss: 1.1151\n",
      "Epoch 30/40, Loss: 0.8990\n",
      "Epoch 31/40, Loss: 1.0604\n",
      "Epoch 32/40, Loss: 1.0837\n",
      "Epoch 33/40, Loss: 0.9718\n",
      "Epoch 34/40, Loss: 1.0313\n",
      "Epoch 35/40, Loss: 0.9065\n",
      "Epoch 36/40, Loss: 1.7730\n",
      "Epoch 37/40, Loss: 0.9004\n",
      "Epoch 38/40, Loss: 0.9051\n",
      "Epoch 39/40, Loss: 0.8643\n",
      "Epoch 40/40, Loss: 0.8659\n"
     ]
    }
   ],
   "source": [
    "# Training loop\n",
    "num_epochs = 40\n",
    "for epoch in range(num_epochs):\n",
    "    model.train()  # Set model to training mode\n",
    "    for inputs, labels in train_loader:\n",
    "        optimizer.zero_grad()\n",
    "        outputs = model(inputs)\n",
    "        loss = criterion(outputs, labels.long())\n",
    "        loss.backward()\n",
    "        optimizer.step()\n",
    "    scheduler.step()  # Adjust learning rate\n",
    "    \n",
    "    print(f\"Epoch {epoch+1}/{num_epochs}, Loss: {loss.item():.4f}\")\n"
   ]
  },
  {
   "cell_type": "code",
   "execution_count": 32,
   "id": "1a92ae58-393c-4188-a43c-0172b48eb41a",
   "metadata": {},
   "outputs": [
    {
     "name": "stdout",
     "output_type": "stream",
     "text": [
      "Accuracy of the model on the test set: 91.96%\n"
     ]
    }
   ],
   "source": [
    "# Evaluation\n",
    "model.eval()  # Set model to evaluation mode\n",
    "correct, total = 0, 0\n",
    "with torch.no_grad():\n",
    "    for inputs, labels in test_loader:\n",
    "        outputs = model(inputs)\n",
    "        _, predicted = torch.max(outputs.data, 1)\n",
    "        total += labels.size(0)\n",
    "        correct += (predicted == labels).sum().item()\n",
    "\n",
    "accuracy = correct / total\n",
    "# print(total)\n",
    "# print(correct)\n",
    "# print(accuracy)\n",
    "print(f'Accuracy of the model on the test set: {accuracy * 100:.2f}%')"
   ]
  }
 ],
 "metadata": {
  "kernelspec": {
   "display_name": "Python 3 (ipykernel)",
   "language": "python",
   "name": "python3"
  },
  "language_info": {
   "codemirror_mode": {
    "name": "ipython",
    "version": 3
   },
   "file_extension": ".py",
   "mimetype": "text/x-python",
   "name": "python",
   "nbconvert_exporter": "python",
   "pygments_lexer": "ipython3",
   "version": "3.9.6"
  }
 },
 "nbformat": 4,
 "nbformat_minor": 5
}
