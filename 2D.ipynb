{
 "cells": [
  {
   "cell_type": "code",
   "execution_count": 1,
   "id": "f4559cd1-34c6-42f6-a9b5-825cdda25fe9",
   "metadata": {},
   "outputs": [],
   "source": [
    "import numpy as np\n",
    "import pandas as pd\n",
    "import torch\n",
    "import h5py\n",
    "import re\n",
    "import torch.nn as nn \n",
    "import matplotlib.pyplot as plt\n",
    "from torch.utils.data import TensorDataset, DataLoader\n",
    "from torch.utils.data.dataset import random_split\n",
    "from torch.utils.data import TensorDataset, DataLoader\n",
    "import torch.optim as optim\n",
    "from torch.optim.lr_scheduler import StepLR\n",
    "import torch.nn.functional as F\n",
    "from sklearn.model_selection import train_test_split"
   ]
  },
  {
   "cell_type": "code",
   "execution_count": 109,
   "id": "2b3a9e7f-4634-41a6-a200-035e375bdf2a",
   "metadata": {},
   "outputs": [],
   "source": [
    "hf = h5py.File(\"Smoke Flow Data 2D.h5\", \"r\")"
   ]
  },
  {
   "cell_type": "code",
   "execution_count": 112,
   "id": "2e8e6b6f-5393-43c0-ac63-55f60d15e43e",
   "metadata": {},
   "outputs": [
    {
     "data": {
      "text/plain": [
       "<KeysViewHDF5 ['x-0-y0', 'x-0-y15', 'x-0-y30', 'x-0-y45', 'x-0-y60', 'x-0-y75', 'x-0-y90', 'x-15-y0', 'x-15-y15', 'x-15-y30', 'x-15-y45', 'x-15-y60', 'x-15-y75', 'x-15-y90', 'x-30-y0', 'x-30-y15', 'x-30-y30', 'x-30-y45', 'x-30-y60', 'x-30-y75', 'x-30-y90', 'x-45-y0', 'x-45-y15', 'x-45-y30', 'x-45-y45', 'x-45-y60', 'x-45-y75', 'x-45-y90', 'x-60-y0', 'x-60-y15', 'x-60-y30', 'x-60-y45', 'x-60-y60', 'x-60-y75', 'x-60-y90', 'x-75-y0', 'x-75-y15', 'x-75-y30', 'x-75-y45', 'x-75-y60', 'x-75-y75', 'x-75-y90', 'x-90-y0', 'x-90-y15', 'x-90-y30', 'x-90-y45', 'x-90-y60', 'x-90-y75', 'x-90-y90']>"
      ]
     },
     "execution_count": 112,
     "metadata": {},
     "output_type": "execute_result"
    }
   ],
   "source": [
    "hf.keys()\n"
   ]
  },
  {
   "cell_type": "code",
   "execution_count": null,
   "id": "3af9d924-41a3-4965-a57b-317bbcd71c65",
   "metadata": {},
   "outputs": [],
   "source": [
    "\n",
    "def extract_numeric_values(string):\n",
    "    # Use regular expressions to find numeric values for x and y\n",
    "    string = str(string)\n",
    "    # print(string)\n",
    "    match = re.match(r'x-(\\d+)-y(\\d+)', string)\n",
    "    if match:\n",
    "        x_value = int(match.group(1))\n",
    "        y_value = int(match.group(2))\n",
    "        return x_value, y_value\n",
    "    else:\n",
    "        return None, None"
   ]
  },
  {
   "cell_type": "code",
   "execution_count": 256,
   "id": "09a8f099-31e6-494c-9c37-56db8d9338b5",
   "metadata": {},
   "outputs": [
    {
     "name": "stdout",
     "output_type": "stream",
     "text": [
      "Source positions tensor shape: torch.Size([19698, 2])\n",
      "Density values tensor shape: torch.Size([19698, 300])\n",
      "Class tensor shape: torch.Size([19698])\n"
     ]
    }
   ],
   "source": [
    "smoke_detectors = np.array([[60.0, 60.0],[30.0, 80.0]])\n",
    "# ,[30.0, 80.0]\n",
    "\n",
    "# Initialize lists to store tensors for source positions, density values, and class labels\n",
    "source_positions_tensors = []\n",
    "density_values_tensors = []\n",
    "class_tensors = []\n",
    "\n",
    "\n",
    "# Initialize tensors for source positions and density values\n",
    "source_positions_tensor = None\n",
    "density_values_tensor = None\n",
    "class_tensor = None\n",
    "\n",
    "total_steps = 501  # Total number of steps\n",
    "window_size = 300\n",
    "\n",
    "# Open the HDF5 file in read mode\n",
    "with h5py.File(\"Smoke Flow Data 2D.h5\", \"r\") as hf:\n",
    "\n",
    "    # Iterate over each smoke detector position\n",
    "    for smoke_detector_pos in smoke_detectors:\n",
    "        \n",
    "        x, y = smoke_detector_pos\n",
    "\n",
    "        ### sourceX, sourceY is the source position - 2D\n",
    "        # Iterate over the time steps with a sliding window\n",
    "        for source_group_name in hf:\n",
    "            # print(source_group_name)\n",
    "            \n",
    "            source_group = hf[source_group_name]\n",
    "            # print(source_group)\n",
    "            \n",
    "            \n",
    "            source_position_str = source_group_name.split('/')[-1]\n",
    "            # print(source_position_str)\n",
    "\n",
    "            sourceX, sourceY = extract_numeric_values(source_position_str)\n",
    "            # print(sourceX,\",\",sourceY)\n",
    "\n",
    "\n",
    "            # Access the 'density' dataset within the group\n",
    "            density_dataset = source_group['density']\n",
    "            # print(density_dataset[400,60,30,])\n",
    "            # print(density_dataset[0])\n",
    "\n",
    "            # print(density_dataset[0])\n",
    "\n",
    "            # Iterate over the sliding windows\n",
    "#             for start_idx in range(total_steps - window_size):\n",
    "                \n",
    "#                 # Retrieve the density values at the specified position (x, y) for the current window\n",
    "#                 density_values_at_position = density_dataset[start_idx : start_idx + window_size, int(x), int(y), 0]\n",
    "                \n",
    "#                 # Convert density values to PyTorch tensor\n",
    "#                 density_values_tensor_batch = torch.tensor(density_values_at_position)\n",
    "#                 source_position_tensor_batch = torch.tensor((sourceX, sourceY))\n",
    "                \n",
    "#                 # # Calculate the class label based on the source position\n",
    "#                 class_label =  label_mapping[(sourceX, sourceY)]\n",
    "\n",
    "#                 # Create class tensor based on the class label\n",
    "#                 class_tensor_batch = torch.tensor(class_label)\n",
    "\n",
    "#                 # Concatenate batch tensors\n",
    "#                 if source_positions_tensor is None:\n",
    "                    \n",
    "#                     source_positions_tensor = source_position_tensor_batch.unsqueeze(0)\n",
    "#                     density_values_tensor = density_values_tensor_batch.unsqueeze(0)\n",
    "#                     class_tensor = class_tensor_batch.unsqueeze(0)\n",
    " \n",
    "#                 else:\n",
    "#                     source_positions_tensor = torch.cat((source_positions_tensor, source_position_tensor_batch.unsqueeze(0)), dim=0)\n",
    "#                     density_values_tensor = torch.cat((density_values_tensor, density_values_tensor_batch.unsqueeze(0)), dim=0)\n",
    "#                     class_tensor = torch.cat((class_tensor, class_tensor_batch.unsqueeze(0)), dim=0)\n",
    "\n",
    "#             # Append the tensors to the lists after processing all sliding windows for each source position\n",
    "#             source_positions_tensors.append(source_positions_tensor)\n",
    "#             density_values_tensors.append(density_values_tensor)\n",
    "#             class_tensors.append(class_tensor)\n",
    "            \n",
    "# # You now have the source positions, density values, and class labels as tensors with sliding windows\n",
    "# print(\"Source positions tensor shape:\", source_positions_tensor.shape)\n",
    "# print(\"Density values tensor shape:\", density_values_tensor.shape)\n",
    "# print(\"Class tensor shape:\", class_tensor.shape)\n"
   ]
  },
  {
   "cell_type": "code",
   "execution_count": 259,
   "id": "de54f9d9-9faf-47dc-b492-77a74749efac",
   "metadata": {},
   "outputs": [
    {
     "name": "stdout",
     "output_type": "stream",
     "text": [
      "Source positions tensor shape: torch.Size([9849, 2, 2])\n",
      "Density values tensor shape: torch.Size([9849, 2, 300])\n",
      "Class tensor shape: torch.Size([9849, 2])\n"
     ]
    }
   ],
   "source": [
    "density_tensor = density_values_tensor.reshape(9849,2,-1)\n",
    "source_tensor = source_positions_tensor.view(9849,2,-1)\n",
    "class_tensor = class_tensor.view(9849,-1)\n",
    "\n",
    "print(\"Source positions tensor shape:\", source_tensor.shape)\n",
    "print(\"Density values tensor shape:\", density_tensor.shape)\n",
    "print(\"Class tensor shape:\", class_tensor.shape)"
   ]
  },
  {
   "cell_type": "code",
   "execution_count": 289,
   "id": "4ebf9a5f-d977-43da-888e-c27a4573ff26",
   "metadata": {},
   "outputs": [
    {
     "name": "stdout",
     "output_type": "stream",
     "text": [
      "tensor([ 0,  0,  0,  ..., 48, 48, 48])\n"
     ]
    }
   ],
   "source": [
    "# sum(class_tensor[:,0] != class_tensor[:,1])\n",
    "class_tensor = class_tensor[:,0]\n",
    "print(class_tensor)"
   ]
  },
  {
   "cell_type": "code",
   "execution_count": 250,
   "id": "d5988669-f1d2-4c12-99f7-bc01654bf26c",
   "metadata": {},
   "outputs": [],
   "source": [
    "label_mapping = {}\n",
    "label_index = 0\n",
    "for x in range(0, 91, 15):\n",
    "    for y in range(0, 91, 15):\n",
    "        label_mapping[(x, y)] = label_index\n",
    "        label_index += 1"
   ]
  },
  {
   "cell_type": "code",
   "execution_count": 251,
   "id": "6335da00-f6ed-48c1-9d84-2c56bee9d24e",
   "metadata": {},
   "outputs": [
    {
     "name": "stdout",
     "output_type": "stream",
     "text": [
      "{(0, 0): 0, (0, 15): 1, (0, 30): 2, (0, 45): 3, (0, 60): 4, (0, 75): 5, (0, 90): 6, (15, 0): 7, (15, 15): 8, (15, 30): 9, (15, 45): 10, (15, 60): 11, (15, 75): 12, (15, 90): 13, (30, 0): 14, (30, 15): 15, (30, 30): 16, (30, 45): 17, (30, 60): 18, (30, 75): 19, (30, 90): 20, (45, 0): 21, (45, 15): 22, (45, 30): 23, (45, 45): 24, (45, 60): 25, (45, 75): 26, (45, 90): 27, (60, 0): 28, (60, 15): 29, (60, 30): 30, (60, 45): 31, (60, 60): 32, (60, 75): 33, (60, 90): 34, (75, 0): 35, (75, 15): 36, (75, 30): 37, (75, 45): 38, (75, 60): 39, (75, 75): 40, (75, 90): 41, (90, 0): 42, (90, 15): 43, (90, 30): 44, (90, 45): 45, (90, 60): 46, (90, 75): 47, (90, 90): 48}\n"
     ]
    }
   ],
   "source": [
    "print(label_mapping)"
   ]
  },
  {
   "cell_type": "code",
   "execution_count": 290,
   "id": "28f846d9-e92b-42c8-a78c-5b2b6d02d7c0",
   "metadata": {},
   "outputs": [
    {
     "name": "stdout",
     "output_type": "stream",
     "text": [
      "tensor([1409,   79])\n"
     ]
    }
   ],
   "source": [
    "non_zero_indices = torch.nonzero(density_values_tensor)\n",
    "# num_non_zero_values = non_zero_indices.size(0)\n",
    "# print(\"Number of non-zero values in the tensor:\", num_non_zero_values)\n",
    "print(non_zero_indices[200])\n"
   ]
  },
  {
   "cell_type": "code",
   "execution_count": 291,
   "id": "e3356f4a-e699-4a7a-8e81-ade953df2a81",
   "metadata": {},
   "outputs": [
    {
     "data": {
      "text/plain": [
       "[<matplotlib.lines.Line2D at 0x31fc5dfa0>]"
      ]
     },
     "execution_count": 291,
     "metadata": {},
     "output_type": "execute_result"
    },
    {
     "data": {
      "image/png": "[encoded data removed]",
      "text/plain": [
       "<Figure size 640x480 with 1 Axes>"
      ]
     },
     "metadata": {},
     "output_type": "display_data"
    }
   ],
   "source": [
    "plt.plot(density_tensor[1409,0,:])"
   ]
  },
  {
   "cell_type": "code",
   "execution_count": 292,
   "id": "5a64dffa-4849-4431-a2c1-3768c36255ec",
   "metadata": {},
   "outputs": [],
   "source": [
    "def plot_avgPool_demo(some_index = 1409, pool_width=50):\n",
    "### Just checking how averaging might work on the singal\n",
    "    \n",
    "    # import torch.nn as nn\n",
    "    my_test_layer = nn.AvgPool1d(pool_width)\n",
    "    plt.figure(figsize=(8,2))\n",
    "    ax = plt.subplot(121)\n",
    "    ax.plot(my_test_layer(density_tensor)[some_index,0,:])\n",
    "    ax.set_ylabel('AvgPool')\n",
    "    ax = plt.subplot(122)\n",
    "    ax.plot((density_tensor)[some_index,0,:])\n",
    "    ax.set_ylabel('original Signal')"
   ]
  },
  {
   "cell_type": "code",
   "execution_count": 293,
   "id": "2c18d84b-a4d8-4a8b-84c4-da545723e8d4",
   "metadata": {},
   "outputs": [
    {
     "data": {
      "image/png": "[encoded data removed]",
      "text/plain": [
       "<Figure size 800x200 with 2 Axes>"
      ]
     },
     "metadata": {},
     "output_type": "display_data"
    }
   ],
   "source": [
    "plot_avgPool_demo(pool_width=100)"
   ]
  },
  {
   "cell_type": "code",
   "execution_count": 294,
   "id": "a83c3bb8-aff1-47c2-bb89-176fb4a6b000",
   "metadata": {},
   "outputs": [],
   "source": [
    "train_density = density_tensor\n",
    "train_source = class_tensor\n",
    "train_data = TensorDataset(train_density, train_source)"
   ]
  },
  {
   "cell_type": "code",
   "execution_count": 295,
   "id": "2a8f2b99-35ba-475f-a030-bb14993dec72",
   "metadata": {},
   "outputs": [],
   "source": [
    "from torchvision import datasets\n",
    "import torchvision.transforms as transforms\n",
    "from torch.utils.data.sampler import SubsetRandomSampler\n",
    "batch_size = 100\n",
    "\n",
    "def create_datasets(batch_size):\n",
    "\n",
    "    # percentage of training set to use as validation\n",
    "    valid_size = 0.2\n",
    "    test_size =  0.2\n",
    "\n",
    "    # convert data to torch.FloatTensor\n",
    "    transform = transforms.ToTensor()\n",
    "\n",
    "    # choose the training and test datasets\n",
    "\n",
    "\n",
    "    # obtain training indices that will be used for validation\n",
    "    num_train = len(train_data)\n",
    "    indices = list(range(num_train))\n",
    "    np.random.shuffle(indices)\n",
    "    split_val = int(np.floor(valid_size * num_train))\n",
    "    split_test = int(np.floor((valid_size + test_size) * num_train))\n",
    "    train_idx, valid_idx, test_idx = indices[split_test:], indices[:split_val], indices[split_val:split_test]\n",
    "    \n",
    "    # define samplers for obtaining training and validation batches\n",
    "    train_sampler = SubsetRandomSampler(train_idx)\n",
    "    valid_sampler = SubsetRandomSampler(valid_idx)\n",
    "    test_sampler = SubsetRandomSampler(test_idx)\n",
    "    \n",
    "    # load training data in batches\n",
    "    train_loader = torch.utils.data.DataLoader(train_data,\n",
    "                                               batch_size=batch_size,\n",
    "                                               sampler=train_sampler,\n",
    "                                               num_workers=0,\n",
    "                                               drop_last=True)\n",
    "    \n",
    "    # load validation data in batches\n",
    "    valid_loader = torch.utils.data.DataLoader(train_data,\n",
    "                                               batch_size=batch_size,\n",
    "                                               sampler=valid_sampler,\n",
    "                                               num_workers=0,\n",
    "                                               drop_last=True)\n",
    "    \n",
    "    # load test data in batches\n",
    "    test_loader = torch.utils.data.DataLoader(train_data,\n",
    "                                              batch_size=batch_size,\n",
    "                                              num_workers=0,\n",
    "                                              sampler=test_sampler,\n",
    "                                              drop_last=True)\n",
    "    \n",
    "    return train_loader, test_loader, valid_loader"
   ]
  },
  {
   "cell_type": "code",
   "execution_count": 296,
   "id": "19034eb0-78ee-41ad-8285-dafecccfdca7",
   "metadata": {},
   "outputs": [],
   "source": [
    "train_loader, test_loader, valid_loader = create_datasets(batch_size=batch_size)"
   ]
  },
  {
   "cell_type": "code",
   "execution_count": 320,
   "id": "ddcc1554-0584-4394-801e-12809ca22bbc",
   "metadata": {},
   "outputs": [],
   "source": [
    "### Increasing the average pool with increasing\n",
    "### with Conv 3 and average pooling with 4,5,6 no improvements - goes down the hill\n",
    "### with Conv 3 layers - 13%\n",
    "## with conv 4 layers -  13%\n",
    "### After relu1 layernormalization and so forth - to do \n",
    "## with conv 5 layers -  NAN nope\n",
    "\n",
    "###Addign lower numeber has no good results\n",
    "class SimpleCNNavg(nn.Module):\n",
    "    def __init__(self, num_classes, debug=False):\n",
    "        super(SimpleCNNavg, self).__init__()\n",
    "        s = 2\n",
    "        self.debug = debug  # Debug flag\n",
    "\n",
    "\n",
    "        self.AvgPools  = [nn.AvgPool1d(w) for w in [5,10,30,50]] \n",
    "\n",
    "        self.conv1 = nn.Conv1d(in_channels=2, out_channels=8, kernel_size=3, stride=s, padding=1)\n",
    "        self.relu1 = nn.ReLU()\n",
    "        \n",
    "        self.conv2 = nn.Conv1d(in_channels=8, out_channels=16, kernel_size=3, stride=s, padding=1)\n",
    "        self.relu2 = nn.ReLU()\n",
    "        \n",
    "        self.conv3 = nn.Conv1d(in_channels= 16, out_channels= 32, kernel_size=3, stride=s, padding=1)\n",
    "        self.relu3 = nn.ReLU()\n",
    "\n",
    "        self.conv4 = nn.Conv1d(in_channels= 32, out_channels= 32, kernel_size=3, stride=s, padding=1)\n",
    "        self.relu4 = nn.ReLU()\n",
    "\n",
    "        self.conv5 = nn.Conv1d(in_channels= 32, out_channels = 64 , kernel_size=3, stride=s, padding=1)\n",
    "        self.relu5 = nn.ReLU()\n",
    "\n",
    "        self.conv6 = nn.Conv1d(in_channels= 64, out_channels = 128 , kernel_size=3, stride=s, padding=1)\n",
    "        self.relu6 = nn.ReLU()\n",
    "        \n",
    "        self.fc1 = nn.Linear(256, 128)  # Adjusted based on the output size after convolutions\n",
    "        self.relu7 = nn.ReLU()\n",
    "        \n",
    "        self.fc2 = nn.Linear(128, num_classes)\n",
    "\n",
    "    def forward(self, x):\n",
    "\n",
    "        avgs = []\n",
    "        # Apply the average pooling layers\n",
    "        for layer in self.AvgPools:\n",
    "            avgs.append(layer(x)) \n",
    "            \n",
    "        # Concatenate the outputs from the average pooling layers\n",
    "        xcat = torch.cat(avgs, dim=2)\n",
    "\n",
    "        h = self.conv1(xcat)\n",
    "        h = self.relu1(h)\n",
    "        \n",
    "        h = self.conv2(h)\n",
    "        h = self.relu2(h)\n",
    "\n",
    "        h = self.conv3(h)\n",
    "        h = self.relu3(h)\n",
    "\n",
    "        h = self.conv4(h)\n",
    "        h = self.relu4(h)\n",
    "\n",
    "        h = self.conv5(h)\n",
    "        h = self.relu5(h)\n",
    "\n",
    "        \n",
    "        h = self.conv6(h)\n",
    "        h = self.relu6(h)\n",
    "        \n",
    "        h = h.view(h.size(0), -1)  # Flatten the output for the fully connected layers\n",
    "        \n",
    "        h = self.fc1(h)\n",
    "        h = self.relu7(h)\n",
    "        \n",
    "        out = self.fc2(h)\n",
    "        \n",
    "        return out"
   ]
  },
  {
   "cell_type": "code",
   "execution_count": 321,
   "id": "ff90f446-5663-4536-9eae-0830621ba6c0",
   "metadata": {},
   "outputs": [],
   "source": [
    "# model = SimpleCNN(num_classes=9)\n",
    "model = SimpleCNNavg(num_classes= 49, debug=False)\n",
    "criterion = nn.CrossEntropyLoss()\n",
    "optimizer = optim.Adam(model.parameters(), lr=0.01)\n",
    "# scheduler = StepLR(optimizer, step_size= .7, gamma = .9)"
   ]
  },
  {
   "cell_type": "code",
   "execution_count": 322,
   "id": "cab37eb9-ef49-4f80-b988-74770c3c57a0",
   "metadata": {},
   "outputs": [
    {
     "name": "stdout",
     "output_type": "stream",
     "text": [
      "75257\n"
     ]
    }
   ],
   "source": [
    "pytorch_total_params = sum(p.numel() for p in model.parameters())\n",
    "print(pytorch_total_params)"
   ]
  },
  {
   "cell_type": "code",
   "execution_count": 323,
   "id": "fd476407-ef70-4d37-818e-63f80e9c0106",
   "metadata": {},
   "outputs": [],
   "source": [
    "def train_model(model, batch_size, n_epochs):\n",
    "    \n",
    "    # to track the training loss as the model trains\n",
    "    train_losses = []\n",
    "    # to track the validation loss as the model trains\n",
    "    valid_losses = []\n",
    "    # to track the average training loss per epoch as the model trains\n",
    "    avg_train_losses = []\n",
    "    # to track the average validation loss per epoch as the model trains\n",
    "    avg_valid_losses = [] \n",
    "    \n",
    "    \n",
    "    for epoch in range(1, n_epochs + 1):\n",
    "\n",
    "        ###################\n",
    "        # train the model #\n",
    "        ###################\n",
    "        model.train() # prep model for training\n",
    "        for batch, (data, target) in enumerate(train_loader, 1):\n",
    "            # clear the gradients of all optimized variables\n",
    "            optimizer.zero_grad()\n",
    "            # forward pass: compute predicted outputs by passing inputs to the model\n",
    "            output = model(data)\n",
    "            # calculate the loss\n",
    "            loss = criterion(output, target)\n",
    "            # backward pass: compute gradient of the loss with respect to model parameters\n",
    "            loss.backward()\n",
    "            # perform a single optimization step (parameter update)\n",
    "            optimizer.step()\n",
    "            # record training loss\n",
    "            train_losses.append(loss.item())\n",
    "\n",
    "        ######################    \n",
    "        # validate the model #\n",
    "        ######################\n",
    "        model.eval() # prep model for evaluation\n",
    "        correct, total = 0, 0\n",
    "        for data, target in valid_loader:\n",
    "            # forward pass: compute predicted outputs by passing inputs to the model\n",
    "            output = model(data)\n",
    "            # calculate the loss\n",
    "            loss = criterion(output, target)\n",
    "            # record validation loss\n",
    "            valid_losses.append(loss.item())\n",
    "            _, predicted = torch.max(output.data, 1)\n",
    "            total += output.size(0)\n",
    "            correct += (predicted == target).sum().item()\n",
    "\n",
    "        accuracy = correct / total\n",
    "\n",
    "\n",
    "        # print training/validation statistics \n",
    "        # calculate average loss over an epoch\n",
    "        train_loss = np.average(train_losses)\n",
    "        valid_loss = np.average(valid_losses)\n",
    "        avg_train_losses.append(train_loss)\n",
    "        avg_valid_losses.append(valid_loss)\n",
    "        \n",
    "        epoch_len = len(str(n_epochs))\n",
    "        \n",
    "        print_msg = (f'[{epoch:>{epoch_len}}/{n_epochs:>{epoch_len}}] ' +\n",
    "                     f'train_loss: {train_loss:.5f} ' +\n",
    "                     f'valid_loss: {valid_loss:.5f} ' +\n",
    "                     f'accuracy:   {accuracy * 100:.2f}%'\n",
    "                    )\n",
    "        \n",
    "        print(print_msg)\n",
    "        \n",
    "        # clear lists to track next epoch\n",
    "        train_losses = []\n",
    "        valid_losses = []\n",
    "        \n",
    "\n",
    "    return  model, avg_train_losses, avg_valid_losses\n",
    "            "
   ]
  },
  {
   "cell_type": "code",
   "execution_count": 324,
   "id": "700f884b-efff-4c3f-8564-f823c1994c1c",
   "metadata": {},
   "outputs": [
    {
     "name": "stdout",
     "output_type": "stream",
     "text": [
      "[  1/100] train_loss: 3.75211 valid_loss: 3.50321 accuracy:   6.11%\n",
      "[  2/100] train_loss: 3.36472 valid_loss: 3.31871 accuracy:   6.79%\n",
      "[  3/100] train_loss: 3.26866 valid_loss: 3.31031 accuracy:   8.37%\n",
      "[  4/100] train_loss: 3.24718 valid_loss: 3.19243 accuracy:   9.68%\n",
      "[  5/100] train_loss: 3.14351 valid_loss: 3.14284 accuracy:   10.95%\n",
      "[  6/100] train_loss: 3.20568 valid_loss: 3.22396 accuracy:   10.42%\n",
      "[  7/100] train_loss: 3.16433 valid_loss: 3.11899 accuracy:   12.53%\n",
      "[  8/100] train_loss: 3.11225 valid_loss: 3.19326 accuracy:   12.42%\n",
      "[  9/100] train_loss: 3.11270 valid_loss: 3.11186 accuracy:   13.89%\n",
      "[ 10/100] train_loss: 3.08195 valid_loss: 3.10663 accuracy:   12.16%\n",
      "[ 11/100] train_loss: 3.02604 valid_loss: 3.02043 accuracy:   15.63%\n",
      "[ 12/100] train_loss: 2.97658 valid_loss: 2.99592 accuracy:   15.42%\n",
      "[ 13/100] train_loss: 2.95185 valid_loss: 2.98410 accuracy:   16.84%\n",
      "[ 14/100] train_loss: 2.91119 valid_loss: 2.92171 accuracy:   19.11%\n",
      "[ 15/100] train_loss: 2.89174 valid_loss: 2.87477 accuracy:   20.37%\n",
      "[ 16/100] train_loss: 2.87478 valid_loss: 2.86759 accuracy:   20.58%\n",
      "[ 17/100] train_loss: 2.85183 valid_loss: 2.93102 accuracy:   18.53%\n",
      "[ 18/100] train_loss: 2.85133 valid_loss: 2.84078 accuracy:   22.37%\n",
      "[ 19/100] train_loss: 2.81314 valid_loss: 2.80862 accuracy:   22.95%\n",
      "[ 20/100] train_loss: 2.78572 valid_loss: 2.91604 accuracy:   20.00%\n",
      "[ 21/100] train_loss: 2.80965 valid_loss: 2.82735 accuracy:   22.26%\n",
      "[ 22/100] train_loss: 2.77001 valid_loss: 2.80465 accuracy:   23.37%\n",
      "[ 23/100] train_loss: 2.78254 valid_loss: 2.86403 accuracy:   21.68%\n",
      "[ 24/100] train_loss: 2.75602 valid_loss: 2.77325 accuracy:   24.89%\n",
      "[ 25/100] train_loss: 2.75250 valid_loss: 2.79636 accuracy:   24.16%\n",
      "[ 26/100] train_loss: 2.74981 valid_loss: 2.76534 accuracy:   24.74%\n",
      "[ 27/100] train_loss: 2.72757 valid_loss: 2.76723 accuracy:   24.84%\n",
      "[ 28/100] train_loss: 2.72140 valid_loss: 2.76885 accuracy:   24.58%\n",
      "[ 29/100] train_loss: 2.71362 valid_loss: 2.74811 accuracy:   25.63%\n",
      "[ 30/100] train_loss: 2.70916 valid_loss: 2.77754 accuracy:   25.63%\n",
      "[ 31/100] train_loss: 2.73439 valid_loss: 2.87773 accuracy:   22.42%\n",
      "[ 32/100] train_loss: 2.79663 valid_loss: 2.79362 accuracy:   24.89%\n",
      "[ 33/100] train_loss: 2.72779 valid_loss: 2.76400 accuracy:   25.37%\n",
      "[ 34/100] train_loss: 2.72530 valid_loss: 2.83735 accuracy:   22.37%\n",
      "[ 35/100] train_loss: 2.73538 valid_loss: 2.76059 accuracy:   25.63%\n",
      "[ 36/100] train_loss: 2.69101 valid_loss: 2.77955 accuracy:   24.68%\n",
      "[ 37/100] train_loss: 2.73619 valid_loss: 2.75436 accuracy:   24.89%\n",
      "[ 38/100] train_loss: 2.70042 valid_loss: 2.75157 accuracy:   25.16%\n",
      "[ 39/100] train_loss: 2.67431 valid_loss: 2.74384 accuracy:   25.89%\n",
      "[ 40/100] train_loss: 2.72282 valid_loss: 2.74111 accuracy:   24.84%\n",
      "[ 41/100] train_loss: 2.70653 valid_loss: 2.74499 accuracy:   25.05%\n",
      "[ 42/100] train_loss: 2.70194 valid_loss: 2.71221 accuracy:   26.68%\n",
      "[ 43/100] train_loss: 2.68934 valid_loss: 2.72185 accuracy:   26.53%\n",
      "[ 44/100] train_loss: 2.66215 valid_loss: 2.70168 accuracy:   26.79%\n",
      "[ 45/100] train_loss: 2.65755 valid_loss: 2.73767 accuracy:   25.89%\n",
      "[ 46/100] train_loss: 2.66652 valid_loss: 2.70101 accuracy:   27.21%\n",
      "[ 47/100] train_loss: 2.64641 valid_loss: 2.73577 accuracy:   25.00%\n",
      "[ 48/100] train_loss: 2.70985 valid_loss: 2.66194 accuracy:   28.00%\n",
      "[ 49/100] train_loss: 2.63728 valid_loss: 2.74105 accuracy:   26.42%\n",
      "[ 50/100] train_loss: 2.69016 valid_loss: 2.70926 accuracy:   26.42%\n",
      "[ 51/100] train_loss: 2.69201 valid_loss: 2.69143 accuracy:   26.53%\n",
      "[ 52/100] train_loss: 2.64459 valid_loss: 2.70440 accuracy:   26.68%\n",
      "[ 53/100] train_loss: 2.61405 valid_loss: 2.66672 accuracy:   27.89%\n",
      "[ 54/100] train_loss: 2.61753 valid_loss: 2.70148 accuracy:   27.26%\n",
      "[ 55/100] train_loss: 2.65638 valid_loss: 2.78180 accuracy:   24.79%\n",
      "[ 56/100] train_loss: 2.69728 valid_loss: 2.71259 accuracy:   27.11%\n",
      "[ 57/100] train_loss: 2.60837 valid_loss: 2.66317 accuracy:   27.95%\n",
      "[ 58/100] train_loss: 2.60288 valid_loss: 2.67452 accuracy:   28.58%\n",
      "[ 59/100] train_loss: 2.58969 valid_loss: 2.61259 accuracy:   29.79%\n",
      "[ 60/100] train_loss: 2.59634 valid_loss: 2.66648 accuracy:   27.32%\n",
      "[ 61/100] train_loss: 2.64413 valid_loss: 2.76375 accuracy:   25.74%\n",
      "[ 62/100] train_loss: 2.67562 valid_loss: 2.71679 accuracy:   25.89%\n",
      "[ 63/100] train_loss: 2.63413 valid_loss: 2.72175 accuracy:   27.37%\n",
      "[ 64/100] train_loss: 2.63709 valid_loss: 2.72064 accuracy:   26.11%\n",
      "[ 65/100] train_loss: 2.58697 valid_loss: 2.61575 accuracy:   28.42%\n",
      "[ 66/100] train_loss: 2.61659 valid_loss: 2.62473 accuracy:   28.53%\n",
      "[ 67/100] train_loss: 2.57561 valid_loss: 2.62677 accuracy:   28.42%\n",
      "[ 68/100] train_loss: 2.57596 valid_loss: 2.62401 accuracy:   29.42%\n",
      "[ 69/100] train_loss: 2.55199 valid_loss: 2.61915 accuracy:   29.58%\n",
      "[ 70/100] train_loss: 2.54166 valid_loss: 2.57093 accuracy:   29.53%\n",
      "[ 71/100] train_loss: 2.53957 valid_loss: 2.62612 accuracy:   29.16%\n",
      "[ 72/100] train_loss: 2.58570 valid_loss: 2.63440 accuracy:   28.11%\n",
      "[ 73/100] train_loss: 2.57095 valid_loss: 2.70995 accuracy:   28.63%\n",
      "[ 74/100] train_loss: 2.67538 valid_loss: 2.78689 accuracy:   26.53%\n",
      "[ 75/100] train_loss: 2.66266 valid_loss: 2.74100 accuracy:   26.84%\n",
      "[ 76/100] train_loss: 2.61758 valid_loss: 2.65975 accuracy:   28.00%\n",
      "[ 77/100] train_loss: 2.56062 valid_loss: 2.58224 accuracy:   28.89%\n",
      "[ 78/100] train_loss: 2.55813 valid_loss: 2.67500 accuracy:   28.16%\n",
      "[ 79/100] train_loss: 2.55228 valid_loss: 2.59639 accuracy:   29.42%\n",
      "[ 80/100] train_loss: 2.54742 valid_loss: 2.73616 accuracy:   27.37%\n",
      "[ 81/100] train_loss: 2.57858 valid_loss: 2.59795 accuracy:   29.47%\n",
      "[ 82/100] train_loss: 2.53983 valid_loss: 2.60049 accuracy:   29.89%\n",
      "[ 83/100] train_loss: 2.51788 valid_loss: 2.56657 accuracy:   30.42%\n",
      "[ 84/100] train_loss: 2.52335 valid_loss: 2.57386 accuracy:   30.11%\n",
      "[ 85/100] train_loss: 2.52339 valid_loss: 2.58607 accuracy:   30.47%\n",
      "[ 86/100] train_loss: 2.59281 valid_loss: 2.60459 accuracy:   29.32%\n",
      "[ 87/100] train_loss: 2.54315 valid_loss: 2.58059 accuracy:   30.53%\n",
      "[ 88/100] train_loss: 2.51395 valid_loss: 2.59530 accuracy:   30.11%\n",
      "[ 89/100] train_loss: 2.51932 valid_loss: 2.57355 accuracy:   30.42%\n",
      "[ 90/100] train_loss: 2.66822 valid_loss: 2.67103 accuracy:   28.63%\n",
      "[ 91/100] train_loss: 2.58770 valid_loss: 2.60844 accuracy:   27.74%\n",
      "[ 92/100] train_loss: 2.53766 valid_loss: 2.63315 accuracy:   29.26%\n",
      "[ 93/100] train_loss: 2.54445 valid_loss: 2.55850 accuracy:   30.26%\n",
      "[ 94/100] train_loss: 2.51886 valid_loss: 2.55698 accuracy:   30.37%\n",
      "[ 95/100] train_loss: 2.52413 valid_loss: 2.56606 accuracy:   29.89%\n",
      "[ 96/100] train_loss: 2.51295 valid_loss: 2.57931 accuracy:   30.11%\n",
      "[ 97/100] train_loss: 2.50057 valid_loss: 2.55570 accuracy:   30.58%\n",
      "[ 98/100] train_loss: 2.53480 valid_loss: 2.58646 accuracy:   28.84%\n",
      "[ 99/100] train_loss: 2.51963 valid_loss: 2.56376 accuracy:   30.26%\n",
      "[100/100] train_loss: 2.54659 valid_loss: 2.67376 accuracy:   28.74%\n"
     ]
    }
   ],
   "source": [
    "model, train_loss, valid_loss = train_model(model=model, batch_size=batch_size, n_epochs= 100)"
   ]
  }
 ],
 "metadata": {
  "kernelspec": {
   "display_name": "Python 3 (ipykernel)",
   "language": "python",
   "name": "python3"
  },
  "language_info": {
   "codemirror_mode": {
    "name": "ipython",
    "version": 3
   },
   "file_extension": ".py",
   "mimetype": "text/x-python",
   "name": "python",
   "nbconvert_exporter": "python",
   "pygments_lexer": "ipython3",
   "version": "3.9.6"
  }
 },
 "nbformat": 4,
 "nbformat_minor": 5
}
