{
 "cells": [
  {
   "cell_type": "code",
   "execution_count": 3,
   "id": "516d00bf-50c9-4f47-bd8e-2486c2b32689",
   "metadata": {},
   "outputs": [],
   "source": [
    "import numpy as np\n",
    "import h5py\n",
    "import matplotlib.pyplot as plt"
   ]
  },
  {
   "cell_type": "code",
   "execution_count": 4,
   "id": "de7ba2ad-cd94-4fcd-8c61-5c542eb04227",
   "metadata": {},
   "outputs": [],
   "source": [
    "hf = h5py.File(\"Smoke-Flow-Data.h5\", \"r\")"
   ]
  },
  {
   "cell_type": "markdown",
   "id": "0d24c1d8-a18e-4724-9a53-dd2d0661c34a",
   "metadata": {},
   "source": [
    "It has data of 10 different experiments"
   ]
  },
  {
   "cell_type": "code",
   "execution_count": 5,
   "id": "67db1603-82cd-4cad-9cfa-2461746e99ef",
   "metadata": {},
   "outputs": [
    {
     "name": "stdout",
     "output_type": "stream",
     "text": [
      "<KeysViewHDF5 ['x-10.0', 'x-20.0', 'x-30.0', 'x-40.0', 'x-50.0', 'x-60.0', 'x-70.0', 'x-80.0', 'x-90.0']>\n"
     ]
    }
   ],
   "source": [
    "print(hf.keys())"
   ]
  },
  {
   "cell_type": "markdown",
   "id": "2bf7acc4-ae15-4fc5-9506-94c35298383a",
   "metadata": {},
   "source": [
    "We can select a specific experiemt:"
   ]
  },
  {
   "cell_type": "code",
   "execution_count": 8,
   "id": "a786bf88-3b24-46a7-b3c9-8d3e33da34ac",
   "metadata": {},
   "outputs": [],
   "source": [
    "data = np.array(hf['x-90.0']['density'])"
   ]
  },
  {
   "cell_type": "code",
   "execution_count": 10,
   "id": "20e6a7dc-4cb0-43d1-832b-5031fc53ef29",
   "metadata": {},
   "outputs": [
    {
     "data": {
      "text/plain": [
       "(501, 400, 400, 1)"
      ]
     },
     "execution_count": 10,
     "metadata": {},
     "output_type": "execute_result"
    }
   ],
   "source": [
    "data.shape\n",
    "\n",
    "# shape is time, x, y, 1"
   ]
  },
  {
   "cell_type": "markdown",
   "id": "cf62557c-22e2-4865-958b-22d38c48e367",
   "metadata": {},
   "source": [
    "## first steps:\n",
    "\n",
    "* Please write utililty functions to extract slices of data. Ideally, given a list of smoke detector positions "
   ]
  },
  {
   "cell_type": "code",
   "execution_count": 15,
   "id": "0704d05b-b7de-48df-876e-05a4eb5908cc",
   "metadata": {},
   "outputs": [],
   "source": [
    "smoke_detectors = np.array([[60.0, 60.0], [30.0,80.0]])"
   ]
  },
  {
   "cell_type": "markdown",
   "id": "4d0a53e9-7da7-482a-958b-89c5213a85ab",
   "metadata": {},
   "source": [
    "it will extract time-series data associated with that position out of all experiments. we also need to convert the experiment descriptor 'x-90.0' to a float "
   ]
  },
  {
   "cell_type": "markdown",
   "id": "ca408f8f-b990-4514-92e8-1c84832e25ac",
   "metadata": {},
   "source": [
    "* Please think about how to store this data in tensors and use torch dataloader to retrevie batches out of it. Our features should be multiple columns of time series of data, each column corresponsing to a specific smoke detector and the target variable is the experiment number. "
   ]
  },
  {
   "cell_type": "code",
   "execution_count": null,
   "id": "d67116a4-c27d-4348-a66f-9f4e9d9cd3a9",
   "metadata": {},
   "outputs": [],
   "source": []
  }
 ],
 "metadata": {
  "kernelspec": {
   "display_name": "Python 3 (ipykernel)",
   "language": "python",
   "name": "python3"
  },
  "language_info": {
   "codemirror_mode": {
    "name": "ipython",
    "version": 3
   },
   "file_extension": ".py",
   "mimetype": "text/x-python",
   "name": "python",
   "nbconvert_exporter": "python",
   "pygments_lexer": "ipython3",
   "version": "3.11.5"
  }
 },
 "nbformat": 4,
 "nbformat_minor": 5
}
